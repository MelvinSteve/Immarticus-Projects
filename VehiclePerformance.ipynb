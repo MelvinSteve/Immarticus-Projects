{
  "nbformat": 4,
  "nbformat_minor": 0,
  "metadata": {
    "colab": {
      "provenance": []
    },
    "kernelspec": {
      "name": "python3",
      "display_name": "Python 3"
    },
    "language_info": {
      "name": "python"
    }
  },
  "cells": [
    {
      "cell_type": "code",
      "execution_count": 2,
      "metadata": {
        "id": "cyg60wU6YKwg"
      },
      "outputs": [],
      "source": [
        "import numpy as np\n",
        "import pandas as pd\n",
        "import matplotlib.pyplot as plt"
      ]
    },
    {
      "cell_type": "code",
      "source": [
        "dataset=pd.read_csv(\"/content/data.csv\")"
      ],
      "metadata": {
        "id": "C9yCtMLvYL57"
      },
      "execution_count": 3,
      "outputs": []
    },
    {
      "cell_type": "code",
      "source": [
        "print(dataset.info())"
      ],
      "metadata": {
        "colab": {
          "base_uri": "https://localhost:8080/"
        },
        "id": "Vq4-FAg-YsFD",
        "outputId": "e03f97a5-2458-4029-c4d4-40113d128434"
      },
      "execution_count": 5,
      "outputs": [
        {
          "output_type": "stream",
          "name": "stdout",
          "text": [
            "<class 'pandas.core.frame.DataFrame'>\n",
            "RangeIndex: 398 entries, 0 to 397\n",
            "Data columns (total 9 columns):\n",
            " #   Column               Non-Null Count  Dtype  \n",
            "---  ------               --------------  -----  \n",
            " 0   origin               398 non-null    int64  \n",
            " 1   cylinders            398 non-null    int64  \n",
            " 2   displacement         398 non-null    float64\n",
            " 3   horsepower           398 non-null    object \n",
            " 4   weight               398 non-null    int64  \n",
            " 5   acceleration         398 non-null    float64\n",
            " 6   year                 398 non-null    int64  \n",
            " 7   name                 398 non-null    object \n",
            " 8   Kilometer_per_liter  398 non-null    float64\n",
            "dtypes: float64(3), int64(4), object(2)\n",
            "memory usage: 28.1+ KB\n",
            "None\n"
          ]
        }
      ]
    },
    {
      "cell_type": "code",
      "source": [
        "import math\n",
        "dataset[\"horsepower\"]=dataset[\"horsepower\"].replace(to_replace=\"?\",value=0)"
      ],
      "metadata": {
        "id": "TNZS2o0RayAg"
      },
      "execution_count": 16,
      "outputs": []
    },
    {
      "cell_type": "code",
      "source": [
        "x=dataset.loc[0:,[\"cylinders\",\"horsepower\",\"acceleration\",\"weight\"]]"
      ],
      "metadata": {
        "id": "A2scJ68PZMJ9"
      },
      "execution_count": 17,
      "outputs": []
    },
    {
      "cell_type": "code",
      "source": [
        "print(x)"
      ],
      "metadata": {
        "colab": {
          "base_uri": "https://localhost:8080/"
        },
        "id": "DvmpRFwvZ1MY",
        "outputId": "3125ff52-8d38-4e8d-df97-2a0aab6ddb5c"
      },
      "execution_count": 18,
      "outputs": [
        {
          "output_type": "stream",
          "name": "stdout",
          "text": [
            "     cylinders horsepower  acceleration  weight\n",
            "0            8        130          12.0    3504\n",
            "1            8        165          11.5    3693\n",
            "2            8        150          11.0    3436\n",
            "3            8        150          12.0    3433\n",
            "4            8        140          10.5    3449\n",
            "..         ...        ...           ...     ...\n",
            "393          4         86          15.6    2790\n",
            "394          4         52          24.6    2130\n",
            "395          4         84          11.6    2295\n",
            "396          4         79          18.6    2625\n",
            "397          4         82          19.4    2720\n",
            "\n",
            "[398 rows x 4 columns]\n"
          ]
        }
      ]
    },
    {
      "cell_type": "code",
      "source": [
        "y=dataset.iloc[:,-1]\n",
        "print(y)"
      ],
      "metadata": {
        "colab": {
          "base_uri": "https://localhost:8080/"
        },
        "id": "6Q6a00IkZ27m",
        "outputId": "ad85cb64-ed0b-41fa-abd8-b36ba835d92d"
      },
      "execution_count": 10,
      "outputs": [
        {
          "output_type": "stream",
          "name": "stdout",
          "text": [
            "0       7.652587\n",
            "1       6.377156\n",
            "2       7.652587\n",
            "3       6.802299\n",
            "4       7.227443\n",
            "         ...    \n",
            "393    11.478880\n",
            "394    18.706323\n",
            "395    13.604599\n",
            "396    11.904024\n",
            "397    13.179455\n",
            "Name: Kilometer_per_liter, Length: 398, dtype: float64\n"
          ]
        }
      ]
    },
    {
      "cell_type": "code",
      "source": [
        "from sklearn.model_selection import train_test_split\n",
        "x_train,x_test,y_train,y_test=train_test_split(x,y,test_size=0.2,random_state=0)"
      ],
      "metadata": {
        "id": "is1j3EETZ-3f"
      },
      "execution_count": 19,
      "outputs": []
    },
    {
      "cell_type": "code",
      "source": [
        "from sklearn.linear_model import LinearRegression\n",
        "lr=LinearRegression()\n",
        "lr.fit(x_train,y_train)"
      ],
      "metadata": {
        "colab": {
          "base_uri": "https://localhost:8080/"
        },
        "id": "pAsftqgRaT49",
        "outputId": "effa73f9-36e5-4f3e-e500-2b9dcc1d6c19"
      },
      "execution_count": 20,
      "outputs": [
        {
          "output_type": "execute_result",
          "data": {
            "text/plain": [
              "LinearRegression()"
            ]
          },
          "metadata": {},
          "execution_count": 20
        }
      ]
    },
    {
      "cell_type": "code",
      "source": [
        "lr.predict(x_test)"
      ],
      "metadata": {
        "colab": {
          "base_uri": "https://localhost:8080/"
        },
        "id": "_vB2rLBrbrdu",
        "outputId": "330ea584-27be-4596-db74-752d54b0ca7f"
      },
      "execution_count": 21,
      "outputs": [
        {
          "output_type": "execute_result",
          "data": {
            "text/plain": [
              "array([ 6.05005732, 11.64391675,  6.08448562, 10.69659293,  9.15793447,\n",
              "       14.13281874, 12.97063029, 12.09476455,  6.62940227, 10.15927209,\n",
              "       14.18944662, 12.98772362, 10.05091091, 13.26157386,  6.17624191,\n",
              "       12.88680175, 11.38343279, 11.11806547,  8.40138588, 12.49025688,\n",
              "        5.10728736, 11.64796249, 11.4176955 , 10.03337396, 12.45148632,\n",
              "        9.66196926, 13.31358641, 11.98824485, 11.51271119,  8.46307509,\n",
              "        8.56724565, 11.53311484,  9.65886493, 13.16545645,  8.77268929,\n",
              "       10.66420007,  9.60883356,  5.65376452, 12.90889165,  3.38554757,\n",
              "        4.39749178,  6.86222114, 11.06221054, 11.33017276, 10.79910947,\n",
              "       10.68302354,  9.98750902,  5.05856276, 10.97013775, 13.01254013,\n",
              "       12.3856524 , 12.31919227,  6.06486499, 12.56203254,  6.97871096,\n",
              "        5.17696587,  9.66191456, 10.01694278, 11.56081855,  7.61503436,\n",
              "        9.24409082, 11.25601574, 10.3528972 , 10.3455392 ,  4.80333641,\n",
              "        4.83227814,  4.75466475,  8.73354839, 11.32179828,  4.4992656 ,\n",
              "       13.00112031,  5.15032073, 11.25247405,  8.48319321, 11.65834352,\n",
              "       12.15933071, 12.46378942, 13.34295642, 13.27868142,  6.73264852])"
            ]
          },
          "metadata": {},
          "execution_count": 21
        }
      ]
    },
    {
      "cell_type": "code",
      "source": [
        "lr.predict([[8,130,12,3504]])"
      ],
      "metadata": {
        "colab": {
          "base_uri": "https://localhost:8080/"
        },
        "id": "_5kvmNajcIIc",
        "outputId": "67376359-0e18-40b3-e144-11d81db4178e"
      },
      "execution_count": 23,
      "outputs": [
        {
          "output_type": "stream",
          "name": "stderr",
          "text": [
            "/usr/local/lib/python3.8/dist-packages/sklearn/base.py:450: UserWarning: X does not have valid feature names, but LinearRegression was fitted with feature names\n",
            "  warnings.warn(\n"
          ]
        },
        {
          "output_type": "execute_result",
          "data": {
            "text/plain": [
              "array([7.73581859])"
            ]
          },
          "metadata": {},
          "execution_count": 23
        }
      ]
    },
    {
      "cell_type": "code",
      "source": [
        "lr.predict([[10,195,29,2500]])"
      ],
      "metadata": {
        "colab": {
          "base_uri": "https://localhost:8080/"
        },
        "id": "SLUZysNKcQ1c",
        "outputId": "796a5954-aafe-49b8-8037-911e3a1dbc6b"
      },
      "execution_count": 24,
      "outputs": [
        {
          "output_type": "stream",
          "name": "stderr",
          "text": [
            "/usr/local/lib/python3.8/dist-packages/sklearn/base.py:450: UserWarning: X does not have valid feature names, but LinearRegression was fitted with feature names\n",
            "  warnings.warn(\n"
          ]
        },
        {
          "output_type": "execute_result",
          "data": {
            "text/plain": [
              "array([11.18863476])"
            ]
          },
          "metadata": {},
          "execution_count": 24
        }
      ]
    }
  ]
}