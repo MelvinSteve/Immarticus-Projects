{
  "nbformat": 4,
  "nbformat_minor": 0,
  "metadata": {
    "colab": {
      "provenance": []
    },
    "kernelspec": {
      "name": "python3",
      "display_name": "Python 3"
    },
    "language_info": {
      "name": "python"
    }
  },
  "cells": [
    {
      "cell_type": "code",
      "execution_count": 11,
      "metadata": {
        "id": "1Kvuumf67Gjq"
      },
      "outputs": [],
      "source": [
        "import numpy as np\n",
        "import pandas as pd\n",
        "import matplotlib.pyplot as plt\n",
        "import seaborn as sns"
      ]
    },
    {
      "cell_type": "code",
      "source": [
        "dataset=pd.read_csv(\"/content/train.csv\")"
      ],
      "metadata": {
        "id": "LCXd9BKs7IoV"
      },
      "execution_count": 2,
      "outputs": []
    },
    {
      "cell_type": "code",
      "source": [
        "print(dataset.head())"
      ],
      "metadata": {
        "colab": {
          "base_uri": "https://localhost:8080/"
        },
        "id": "8DBukCme7KrT",
        "outputId": "2782eba0-53c4-437b-92bf-4717d9709184"
      },
      "execution_count": 3,
      "outputs": [
        {
          "output_type": "stream",
          "name": "stdout",
          "text": [
            "     Video_id category_id          channel_title  subscriber  \\\n",
            "0   HDR9SQc79          22           CaseyNeistat   9086142.0   \n",
            "1  KNH52UF?48          24        LastWeekTonight   5937292.0   \n",
            "2  QTW28IRG36          23           Rudy Mancuso   4191209.0   \n",
            "3  MGL76WI]26          24  Good Mythical Morning  13186408.0   \n",
            "4  TWP93KXT70          24               nigahiga  20563106.0   \n",
            "\n",
            "                                               title  \\\n",
            "0                 WE WANT TO TALK ABOUT OUR MARRIAGE   \n",
            "1  The Trump Presidency: Last Week Tonight with J...   \n",
            "2  Racist Superman | Rudy Mancuso, King Bach & Le...   \n",
            "3                   Nickelback Lyrics: Real or Fake?   \n",
            "4                           I Dare You: GOING BALD!?   \n",
            "\n",
            "                                                tags  \\\n",
            "0                                    SHANtell martin   \n",
            "1  last week tonight trump presidency|last week t...   \n",
            "2  racist superman|rudy|mancuso|king|bach|racist|...   \n",
            "3  rhett and link|gmm|good mythical morning|rhett...   \n",
            "4  ryan|higa|higatv|nigahiga|i dare you|idy|rhpc|...   \n",
            "\n",
            "                                         description  Trend_day_count  \\\n",
            "0  SHANTELL'S CHANNEL - https://www.youtube.com/s...              6.0   \n",
            "1  One year after the presidential election, John...              1.0   \n",
            "2  WATCH MY PREVIOUS VIDEO ▶ \\n\\nSUBSCRIBE ► http...             10.0   \n",
            "3  Today we find out if Link is a Nickelback amat...             12.0   \n",
            "4  I know it's been a while since we did this sho...             11.0   \n",
            "\n",
            "  Tag_count Trend_tag_count comment_count comment_disabled  \\\n",
            "0        21               6                          FALSE   \n",
            "1        23               1        116266             TRUE   \n",
            "2        22               3        257850             TRUE   \n",
            "3        17               5        263939             TRUE   \n",
            "4        15               7        268085             TRUE   \n",
            "\n",
            "  like dislike disabled  likes dislike tag appered in title      views  \\\n",
            "0                 FALSE  13342    6089                False  1978978.0   \n",
            "1                 FALSE   5761    3044                False  1487870.0   \n",
            "2                  TRUE      0       0                 True  1502102.0   \n",
            "3                  TRUE      0       0                 True  3519302.0   \n",
            "4                  TRUE      0       0                 True  4835374.0   \n",
            "\n",
            "   Unnamed: 17 Unnamed: 18  \n",
            "0          NaN         NaN  \n",
            "1          NaN         NaN  \n",
            "2          NaN         NaN  \n",
            "3          NaN         NaN  \n",
            "4          NaN         NaN  \n"
          ]
        }
      ]
    },
    {
      "cell_type": "code",
      "source": [
        "dataset=dataset.drop([\"Video_id\",\"Unnamed: 17\",\"Unnamed: 18\",\"tag appered in title\",\"like dislike disabled\",\"description\",\"tags\",\"Trend_tag_count\",\"comment_disabled\"],axis=1)"
      ],
      "metadata": {
        "id": "a91X22KQ7Mfb"
      },
      "execution_count": 4,
      "outputs": []
    },
    {
      "cell_type": "code",
      "source": [
        "print(dataset.info())"
      ],
      "metadata": {
        "colab": {
          "base_uri": "https://localhost:8080/"
        },
        "id": "uxkbl0EP7SVE",
        "outputId": "b118f91e-61b1-48f0-cf68-a50c86fc0beb"
      },
      "execution_count": 5,
      "outputs": [
        {
          "output_type": "stream",
          "name": "stdout",
          "text": [
            "<class 'pandas.core.frame.DataFrame'>\n",
            "RangeIndex: 2340 entries, 0 to 2339\n",
            "Data columns (total 10 columns):\n",
            " #   Column           Non-Null Count  Dtype  \n",
            "---  ------           --------------  -----  \n",
            " 0   category_id      2334 non-null   object \n",
            " 1   channel_title    2337 non-null   object \n",
            " 2   subscriber       2320 non-null   float64\n",
            " 3   title            2337 non-null   object \n",
            " 4   Trend_day_count  2339 non-null   float64\n",
            " 5   Tag_count        2339 non-null   object \n",
            " 6   comment_count    2340 non-null   object \n",
            " 7   likes            2340 non-null   object \n",
            " 8   dislike          2340 non-null   object \n",
            " 9   views            2339 non-null   float64\n",
            "dtypes: float64(3), object(7)\n",
            "memory usage: 182.9+ KB\n",
            "None\n"
          ]
        }
      ]
    },
    {
      "cell_type": "code",
      "source": [
        "dataset[\"comment_count\"]=dataset[\"comment_count\"].fillna(0)"
      ],
      "metadata": {
        "id": "AYPpVOyx7Uir"
      },
      "execution_count": 6,
      "outputs": []
    },
    {
      "cell_type": "code",
      "source": [
        "print(dataset.info())"
      ],
      "metadata": {
        "colab": {
          "base_uri": "https://localhost:8080/"
        },
        "id": "-O5kQJnm7WDz",
        "outputId": "68fdceab-1ab1-4f47-d207-dc500630b039"
      },
      "execution_count": 7,
      "outputs": [
        {
          "output_type": "stream",
          "name": "stdout",
          "text": [
            "<class 'pandas.core.frame.DataFrame'>\n",
            "RangeIndex: 2340 entries, 0 to 2339\n",
            "Data columns (total 10 columns):\n",
            " #   Column           Non-Null Count  Dtype  \n",
            "---  ------           --------------  -----  \n",
            " 0   category_id      2334 non-null   object \n",
            " 1   channel_title    2337 non-null   object \n",
            " 2   subscriber       2320 non-null   float64\n",
            " 3   title            2337 non-null   object \n",
            " 4   Trend_day_count  2339 non-null   float64\n",
            " 5   Tag_count        2339 non-null   object \n",
            " 6   comment_count    2340 non-null   object \n",
            " 7   likes            2340 non-null   object \n",
            " 8   dislike          2340 non-null   object \n",
            " 9   views            2339 non-null   float64\n",
            "dtypes: float64(3), object(7)\n",
            "memory usage: 182.9+ KB\n",
            "None\n"
          ]
        }
      ]
    },
    {
      "cell_type": "code",
      "source": [
        "sns.boxplot(dataset[\"subscriber\"])"
      ],
      "metadata": {
        "colab": {
          "base_uri": "https://localhost:8080/",
          "height": 353
        },
        "id": "ZI1A7J2T8IiM",
        "outputId": "39e2a1d9-5fa5-4728-a420-fc668c3a3315"
      },
      "execution_count": 13,
      "outputs": [
        {
          "output_type": "stream",
          "name": "stderr",
          "text": [
            "/usr/local/lib/python3.8/dist-packages/seaborn/_decorators.py:36: FutureWarning: Pass the following variable as a keyword arg: x. From version 0.12, the only valid positional argument will be `data`, and passing other arguments without an explicit keyword will result in an error or misinterpretation.\n",
            "  warnings.warn(\n"
          ]
        },
        {
          "output_type": "execute_result",
          "data": {
            "text/plain": [
              "<matplotlib.axes._subplots.AxesSubplot at 0x7f277b06a730>"
            ]
          },
          "metadata": {},
          "execution_count": 13
        },
        {
          "output_type": "display_data",
          "data": {
            "text/plain": [
              "<Figure size 432x288 with 1 Axes>"
            ],
            "image/png": "[encoded data removed]"
          },
          "metadata": {
            "needs_background": "light"
          }
        }
      ]
    },
    {
      "cell_type": "code",
      "source": [
        "max_threshold=dataset[\"subscriber\"].quantile(0.95)\n",
        "print(max_threshold)"
      ],
      "metadata": {
        "colab": {
          "base_uri": "https://localhost:8080/"
        },
        "id": "0VvGAPgC9VqT",
        "outputId": "f94fd2fa-4ba7-436d-940f-e0249ce3bd06"
      },
      "execution_count": 15,
      "outputs": [
        {
          "output_type": "stream",
          "name": "stdout",
          "text": [
            "13857473.0\n"
          ]
        }
      ]
    },
    {
      "cell_type": "code",
      "source": [
        "min_threshold=dataset[\"subscriber\"].quantile(0.05)\n",
        "print(min_threshold)"
      ],
      "metadata": {
        "colab": {
          "base_uri": "https://localhost:8080/"
        },
        "id": "6Ib0Gr8e-KAK",
        "outputId": "95430a8d-a3d6-4319-bb6e-ebcec14da1df"
      },
      "execution_count": 16,
      "outputs": [
        {
          "output_type": "stream",
          "name": "stdout",
          "text": [
            "605.9000000000001\n"
          ]
        }
      ]
    },
    {
      "cell_type": "code",
      "source": [
        "dataset[(dataset[\"subscriber\"]<max_threshold) & (dataset[\"subscriber\"]>min_threshold)]"
      ],
      "metadata": {
        "colab": {
          "base_uri": "https://localhost:8080/",
          "height": 1000
        },
        "id": "3Ky9XLPR-Y-A",
        "outputId": "fc3d96fa-e45a-43a6-9baa-19dfa69a68ec"
      },
      "execution_count": 19,
      "outputs": [
        {
          "output_type": "execute_result",
          "data": {
            "text/plain": [
              "     category_id          channel_title  subscriber  \\\n",
              "0             22           CaseyNeistat   9086142.0   \n",
              "1             24        LastWeekTonight   5937292.0   \n",
              "2             23           Rudy Mancuso   4191209.0   \n",
              "3             24  Good Mythical Morning  13186408.0   \n",
              "5             28               iJustine   4652602.0   \n",
              "...          ...                    ...         ...   \n",
              "2333          22             KKandbabyJ    757407.0   \n",
              "2335          24               Billions     26248.0   \n",
              "2336          17                   ESPN   2702088.0   \n",
              "2337          25                    Vox   3808198.0   \n",
              "2339          24              Daz Games   1891854.0   \n",
              "\n",
              "                                                  title  Trend_day_count  \\\n",
              "0                    WE WANT TO TALK ABOUT OUR MARRIAGE              6.0   \n",
              "1     The Trump Presidency: Last Week Tonight with J...              1.0   \n",
              "2     Racist Superman | Rudy Mancuso, King Bach & Le...             10.0   \n",
              "3                      Nickelback Lyrics: Real or Fake?             12.0   \n",
              "5                                 2 Weeks with iPhone X             10.0   \n",
              "...                                                 ...              ...   \n",
              "2333                               I Had A Mommy Moment              2.0   \n",
              "2335  Billions Season 3 (2018) | Official Trailer | ...              8.0   \n",
              "2336  LaVar Ball gets real during interview with ESP...              5.0   \n",
              "2337    Iran's massive protests, explained in 4 minutes              1.0   \n",
              "2339                  Daz Watches Worst Kickstarters #9             11.0   \n",
              "\n",
              "     Tag_count comment_count  likes dislike      views  \n",
              "0           21                13342    6089  1978978.0  \n",
              "1           23        116266   5761    3044  1487870.0  \n",
              "2           22        257850      0       0  1502102.0  \n",
              "3           17        263939      0       0  3519302.0  \n",
              "5            9        198248   8619    3697  1580238.0  \n",
              "...        ...           ...    ...     ...        ...  \n",
              "2333        14                11207   10120   310372.0  \n",
              "2335        18        272277  16364   11887   774140.0  \n",
              "2336        18                 9308    7459   694588.0  \n",
              "2337        11        258219  14820   11934  1400211.0  \n",
              "2339        14        114280  17458   10633        NaN  \n",
              "\n",
              "[2087 rows x 10 columns]"
            ],
            "text/html": [
              "\n",
              "  <div id=\"df-5eab4d9a-3194-4992-963d-16e1323fd747\">\n",
              "    <div class=\"colab-df-container\">\n",
              "      <div>\n",
              "<style scoped>\n",
              "    .dataframe tbody tr th:only-of-type {\n",
              "        vertical-align: middle;\n",
              "    }\n",
              "\n",
              "    .dataframe tbody tr th {\n",
              "        vertical-align: top;\n",
              "    }\n",
              "\n",
              "    .dataframe thead th {\n",
              "        text-align: right;\n",
              "    }\n",
              "</style>\n",
              "<table border=\"1\" class=\"dataframe\">\n",
              "  <thead>\n",
              "    <tr style=\"text-align: right;\">\n",
              "      <th></th>\n",
              "      <th>category_id</th>\n",
              "      <th>channel_title</th>\n",
              "      <th>subscriber</th>\n",
              "      <th>title</th>\n",
              "      <th>Trend_day_count</th>\n",
              "      <th>Tag_count</th>\n",
              "      <th>comment_count</th>\n",
              "      <th>likes</th>\n",
              "      <th>dislike</th>\n",
              "      <th>views</th>\n",
              "    </tr>\n",
              "  </thead>\n",
              "  <tbody>\n",
              "    <tr>\n",
              "      <th>0</th>\n",
              "      <td>22</td>\n",
              "      <td>CaseyNeistat</td>\n",
              "      <td>9086142.0</td>\n",
              "      <td>WE WANT TO TALK ABOUT OUR MARRIAGE</td>\n",
              "      <td>6.0</td>\n",
              "      <td>21</td>\n",
              "      <td></td>\n",
              "      <td>13342</td>\n",
              "      <td>6089</td>\n",
              "      <td>1978978.0</td>\n",
              "    </tr>\n",
              "    <tr>\n",
              "      <th>1</th>\n",
              "      <td>24</td>\n",
              "      <td>LastWeekTonight</td>\n",
              "      <td>5937292.0</td>\n",
              "      <td>The Trump Presidency: Last Week Tonight with J...</td>\n",
              "      <td>1.0</td>\n",
              "      <td>23</td>\n",
              "      <td>116266</td>\n",
              "      <td>5761</td>\n",
              "      <td>3044</td>\n",
              "      <td>1487870.0</td>\n",
              "    </tr>\n",
              "    <tr>\n",
              "      <th>2</th>\n",
              "      <td>23</td>\n",
              "      <td>Rudy Mancuso</td>\n",
              "      <td>4191209.0</td>\n",
              "      <td>Racist Superman | Rudy Mancuso, King Bach &amp; Le...</td>\n",
              "      <td>10.0</td>\n",
              "      <td>22</td>\n",
              "      <td>257850</td>\n",
              "      <td>0</td>\n",
              "      <td>0</td>\n",
              "      <td>1502102.0</td>\n",
              "    </tr>\n",
              "    <tr>\n",
              "      <th>3</th>\n",
              "      <td>24</td>\n",
              "      <td>Good Mythical Morning</td>\n",
              "      <td>13186408.0</td>\n",
              "      <td>Nickelback Lyrics: Real or Fake?</td>\n",
              "      <td>12.0</td>\n",
              "      <td>17</td>\n",
              "      <td>263939</td>\n",
              "      <td>0</td>\n",
              "      <td>0</td>\n",
              "      <td>3519302.0</td>\n",
              "    </tr>\n",
              "    <tr>\n",
              "      <th>5</th>\n",
              "      <td>28</td>\n",
              "      <td>iJustine</td>\n",
              "      <td>4652602.0</td>\n",
              "      <td>2 Weeks with iPhone X</td>\n",
              "      <td>10.0</td>\n",
              "      <td>9</td>\n",
              "      <td>198248</td>\n",
              "      <td>8619</td>\n",
              "      <td>3697</td>\n",
              "      <td>1580238.0</td>\n",
              "    </tr>\n",
              "    <tr>\n",
              "      <th>...</th>\n",
              "      <td>...</td>\n",
              "      <td>...</td>\n",
              "      <td>...</td>\n",
              "      <td>...</td>\n",
              "      <td>...</td>\n",
              "      <td>...</td>\n",
              "      <td>...</td>\n",
              "      <td>...</td>\n",
              "      <td>...</td>\n",
              "      <td>...</td>\n",
              "    </tr>\n",
              "    <tr>\n",
              "      <th>2333</th>\n",
              "      <td>22</td>\n",
              "      <td>KKandbabyJ</td>\n",
              "      <td>757407.0</td>\n",
              "      <td>I Had A Mommy Moment</td>\n",
              "      <td>2.0</td>\n",
              "      <td>14</td>\n",
              "      <td></td>\n",
              "      <td>11207</td>\n",
              "      <td>10120</td>\n",
              "      <td>310372.0</td>\n",
              "    </tr>\n",
              "    <tr>\n",
              "      <th>2335</th>\n",
              "      <td>24</td>\n",
              "      <td>Billions</td>\n",
              "      <td>26248.0</td>\n",
              "      <td>Billions Season 3 (2018) | Official Trailer | ...</td>\n",
              "      <td>8.0</td>\n",
              "      <td>18</td>\n",
              "      <td>272277</td>\n",
              "      <td>16364</td>\n",
              "      <td>11887</td>\n",
              "      <td>774140.0</td>\n",
              "    </tr>\n",
              "    <tr>\n",
              "      <th>2336</th>\n",
              "      <td>17</td>\n",
              "      <td>ESPN</td>\n",
              "      <td>2702088.0</td>\n",
              "      <td>LaVar Ball gets real during interview with ESP...</td>\n",
              "      <td>5.0</td>\n",
              "      <td>18</td>\n",
              "      <td></td>\n",
              "      <td>9308</td>\n",
              "      <td>7459</td>\n",
              "      <td>694588.0</td>\n",
              "    </tr>\n",
              "    <tr>\n",
              "      <th>2337</th>\n",
              "      <td>25</td>\n",
              "      <td>Vox</td>\n",
              "      <td>3808198.0</td>\n",
              "      <td>Iran's massive protests, explained in 4 minutes</td>\n",
              "      <td>1.0</td>\n",
              "      <td>11</td>\n",
              "      <td>258219</td>\n",
              "      <td>14820</td>\n",
              "      <td>11934</td>\n",
              "      <td>1400211.0</td>\n",
              "    </tr>\n",
              "    <tr>\n",
              "      <th>2339</th>\n",
              "      <td>24</td>\n",
              "      <td>Daz Games</td>\n",
              "      <td>1891854.0</td>\n",
              "      <td>Daz Watches Worst Kickstarters #9</td>\n",
              "      <td>11.0</td>\n",
              "      <td>14</td>\n",
              "      <td>114280</td>\n",
              "      <td>17458</td>\n",
              "      <td>10633</td>\n",
              "      <td>NaN</td>\n",
              "    </tr>\n",
              "  </tbody>\n",
              "</table>\n",
              "<p>2087 rows × 10 columns</p>\n",
              "</div>\n",
              "      <button class=\"colab-df-convert\" onclick=\"convertToInteractive('df-5eab4d9a-3194-4992-963d-16e1323fd747')\"\n",
              "              title=\"Convert this dataframe to an interactive table.\"\n",
              "              style=\"display:none;\">\n",
              "        \n",
              "  <svg xmlns=\"http://www.w3.org/2000/svg\" height=\"24px\"viewBox=\"0 0 24 24\"\n",
              "       width=\"24px\">\n",
              "    <path d=\"M0 0h24v24H0V0z\" fill=\"none\"/>\n",
              "    <path d=\"M18.56 5.44l.94 2.06.94-2.06 2.06-.94-2.06-.94-.94-2.06-.94 2.06-2.06.94zm-11 1L8.5 8.5l.94-2.06 2.06-.94-2.06-.94L8.5 2.5l-.94 2.06-2.06.94zm10 10l.94 2.06.94-2.06 2.06-.94-2.06-.94-.94-2.06-.94 2.06-2.06.94z\"/><path d=\"M17.41 7.96l-1.37-1.37c-.4-.4-.92-.59-1.43-.59-.52 0-1.04.2-1.43.59L10.3 9.45l-7.72 7.72c-.78.78-.78 2.05 0 2.83L4 21.41c.39.39.9.59 1.41.59.51 0 1.02-.2 1.41-.59l7.78-7.78 2.81-2.81c.8-.78.8-2.07 0-2.86zM5.41 20L4 18.59l7.72-7.72 1.47 1.35L5.41 20z\"/>\n",
              "  </svg>\n",
              "      </button>\n",
              "      \n",
              "  <style>\n",
              "    .colab-df-container {\n",
              "      display:flex;\n",
              "      flex-wrap:wrap;\n",
              "      gap: 12px;\n",
              "    }\n",
              "\n",
              "    .colab-df-convert {\n",
              "      background-color: #E8F0FE;\n",
              "      border: none;\n",
              "      border-radius: 50%;\n",
              "      cursor: pointer;\n",
              "      display: none;\n",
              "      fill: #1967D2;\n",
              "      height: 32px;\n",
              "      padding: 0 0 0 0;\n",
              "      width: 32px;\n",
              "    }\n",
              "\n",
              "    .colab-df-convert:hover {\n",
              "      background-color: #E2EBFA;\n",
              "      box-shadow: 0px 1px 2px rgba(60, 64, 67, 0.3), 0px 1px 3px 1px rgba(60, 64, 67, 0.15);\n",
              "      fill: #174EA6;\n",
              "    }\n",
              "\n",
              "    [theme=dark] .colab-df-convert {\n",
              "      background-color: #3B4455;\n",
              "      fill: #D2E3FC;\n",
              "    }\n",
              "\n",
              "    [theme=dark] .colab-df-convert:hover {\n",
              "      background-color: #434B5C;\n",
              "      box-shadow: 0px 1px 3px 1px rgba(0, 0, 0, 0.15);\n",
              "      filter: drop-shadow(0px 1px 2px rgba(0, 0, 0, 0.3));\n",
              "      fill: #FFFFFF;\n",
              "    }\n",
              "  </style>\n",
              "\n",
              "      <script>\n",
              "        const buttonEl =\n",
              "          document.querySelector('#df-5eab4d9a-3194-4992-963d-16e1323fd747 button.colab-df-convert');\n",
              "        buttonEl.style.display =\n",
              "          google.colab.kernel.accessAllowed ? 'block' : 'none';\n",
              "\n",
              "        async function convertToInteractive(key) {\n",
              "          const element = document.querySelector('#df-5eab4d9a-3194-4992-963d-16e1323fd747');\n",
              "          const dataTable =\n",
              "            await google.colab.kernel.invokeFunction('convertToInteractive',\n",
              "                                                     [key], {});\n",
              "          if (!dataTable) return;\n",
              "\n",
              "          const docLinkHtml = 'Like what you see? Visit the ' +\n",
              "            '<a target=\"_blank\" href=https://colab.research.google.com/notebooks/data_table.ipynb>data table notebook</a>'\n",
              "            + ' to learn more about interactive tables.';\n",
              "          element.innerHTML = '';\n",
              "          dataTable['output_type'] = 'display_data';\n",
              "          await google.colab.output.renderOutput(dataTable, element);\n",
              "          const docLink = document.createElement('div');\n",
              "          docLink.innerHTML = docLinkHtml;\n",
              "          element.appendChild(docLink);\n",
              "        }\n",
              "      </script>\n",
              "    </div>\n",
              "  </div>\n",
              "  "
            ]
          },
          "metadata": {},
          "execution_count": 19
        }
      ]
    },
    {
      "cell_type": "code",
      "source": [
        "max_threshold=dataset[\"views\"].quantile(0.95)\n",
        "print(max_threshold)"
      ],
      "metadata": {
        "colab": {
          "base_uri": "https://localhost:8080/"
        },
        "id": "p3PDqi-q_ZFE",
        "outputId": "2a623347-e6a8-41d6-c35b-4a8e7607364c"
      },
      "execution_count": 21,
      "outputs": [
        {
          "output_type": "stream",
          "name": "stdout",
          "text": [
            "3314412.299999999\n"
          ]
        }
      ]
    },
    {
      "cell_type": "code",
      "source": [
        "min_threshold=dataset[\"views\"].quantile(0.05)\n",
        "print(min_threshold)"
      ],
      "metadata": {
        "colab": {
          "base_uri": "https://localhost:8080/"
        },
        "id": "7xEek7gI_hNd",
        "outputId": "039b55df-4198-44fe-d1fb-edd1d59556ab"
      },
      "execution_count": 22,
      "outputs": [
        {
          "output_type": "stream",
          "name": "stdout",
          "text": [
            "160369.8\n"
          ]
        }
      ]
    },
    {
      "cell_type": "code",
      "source": [
        "dataset[(dataset[\"views\"]<max_threshold) & (dataset[\"views\"]>min_threshold)]"
      ],
      "metadata": {
        "colab": {
          "base_uri": "https://localhost:8080/",
          "height": 1000
        },
        "id": "jOXLwJE-_jXd",
        "outputId": "2a141f0f-0475-4e2f-ca3a-665117b8530d"
      },
      "execution_count": 24,
      "outputs": [
        {
          "output_type": "execute_result",
          "data": {
            "text/plain": [
              "     category_id        channel_title  subscriber  \\\n",
              "0             22         CaseyNeistat   9086142.0   \n",
              "1             24      LastWeekTonight   5937292.0   \n",
              "2             23         Rudy Mancuso   4191209.0   \n",
              "5             28             iJustine   4652602.0   \n",
              "6             24  Saturday Night Live   5292034.0   \n",
              "...          ...                  ...         ...   \n",
              "2333          22           KKandbabyJ    757407.0   \n",
              "2334          22        BuzzFeedVideo  14889874.0   \n",
              "2335          24             Billions     26248.0   \n",
              "2336          17                 ESPN   2702088.0   \n",
              "2337          25                  Vox   3808198.0   \n",
              "\n",
              "                                                  title  Trend_day_count  \\\n",
              "0                    WE WANT TO TALK ABOUT OUR MARRIAGE              6.0   \n",
              "1     The Trump Presidency: Last Week Tonight with J...              1.0   \n",
              "2     Racist Superman | Rudy Mancuso, King Bach & Le...             10.0   \n",
              "5                                 2 Weeks with iPhone X             10.0   \n",
              "6             Roy Moore & Jeff Sessions Cold Open - SNL              4.0   \n",
              "...                                                 ...              ...   \n",
              "2333                               I Had A Mommy Moment              2.0   \n",
              "2334  Why Is Everyone Wearing Black At The Golden Gl...              3.0   \n",
              "2335  Billions Season 3 (2018) | Official Trailer | ...              8.0   \n",
              "2336  LaVar Ball gets real during interview with ESP...              5.0   \n",
              "2337    Iran's massive protests, explained in 4 minutes              1.0   \n",
              "\n",
              "     Tag_count comment_count  likes dislike      views  \n",
              "0           21                13342    6089  1978978.0  \n",
              "1           23        116266   5761    3044  1487870.0  \n",
              "2           22        257850      0       0  1502102.0  \n",
              "5            9        198248   8619    3697  1580238.0  \n",
              "6           17                 9951     937  1204461.0  \n",
              "...        ...           ...    ...     ...        ...  \n",
              "2333        14                11207   10120   310372.0  \n",
              "2334        11        118324      0       0  3303773.0  \n",
              "2335        18        272277  16364   11887   774140.0  \n",
              "2336        18                 9308    7459   694588.0  \n",
              "2337        11        258219  14820   11934  1400211.0  \n",
              "\n",
              "[2105 rows x 10 columns]"
            ],
            "text/html": [
              "\n",
              "  <div id=\"df-715af74f-eecc-4787-aa72-308d59c97b24\">\n",
              "    <div class=\"colab-df-container\">\n",
              "      <div>\n",
              "<style scoped>\n",
              "    .dataframe tbody tr th:only-of-type {\n",
              "        vertical-align: middle;\n",
              "    }\n",
              "\n",
              "    .dataframe tbody tr th {\n",
              "        vertical-align: top;\n",
              "    }\n",
              "\n",
              "    .dataframe thead th {\n",
              "        text-align: right;\n",
              "    }\n",
              "</style>\n",
              "<table border=\"1\" class=\"dataframe\">\n",
              "  <thead>\n",
              "    <tr style=\"text-align: right;\">\n",
              "      <th></th>\n",
              "      <th>category_id</th>\n",
              "      <th>channel_title</th>\n",
              "      <th>subscriber</th>\n",
              "      <th>title</th>\n",
              "      <th>Trend_day_count</th>\n",
              "      <th>Tag_count</th>\n",
              "      <th>comment_count</th>\n",
              "      <th>likes</th>\n",
              "      <th>dislike</th>\n",
              "      <th>views</th>\n",
              "    </tr>\n",
              "  </thead>\n",
              "  <tbody>\n",
              "    <tr>\n",
              "      <th>0</th>\n",
              "      <td>22</td>\n",
              "      <td>CaseyNeistat</td>\n",
              "      <td>9086142.0</td>\n",
              "      <td>WE WANT TO TALK ABOUT OUR MARRIAGE</td>\n",
              "      <td>6.0</td>\n",
              "      <td>21</td>\n",
              "      <td></td>\n",
              "      <td>13342</td>\n",
              "      <td>6089</td>\n",
              "      <td>1978978.0</td>\n",
              "    </tr>\n",
              "    <tr>\n",
              "      <th>1</th>\n",
              "      <td>24</td>\n",
              "      <td>LastWeekTonight</td>\n",
              "      <td>5937292.0</td>\n",
              "      <td>The Trump Presidency: Last Week Tonight with J...</td>\n",
              "      <td>1.0</td>\n",
              "      <td>23</td>\n",
              "      <td>116266</td>\n",
              "      <td>5761</td>\n",
              "      <td>3044</td>\n",
              "      <td>1487870.0</td>\n",
              "    </tr>\n",
              "    <tr>\n",
              "      <th>2</th>\n",
              "      <td>23</td>\n",
              "      <td>Rudy Mancuso</td>\n",
              "      <td>4191209.0</td>\n",
              "      <td>Racist Superman | Rudy Mancuso, King Bach &amp; Le...</td>\n",
              "      <td>10.0</td>\n",
              "      <td>22</td>\n",
              "      <td>257850</td>\n",
              "      <td>0</td>\n",
              "      <td>0</td>\n",
              "      <td>1502102.0</td>\n",
              "    </tr>\n",
              "    <tr>\n",
              "      <th>5</th>\n",
              "      <td>28</td>\n",
              "      <td>iJustine</td>\n",
              "      <td>4652602.0</td>\n",
              "      <td>2 Weeks with iPhone X</td>\n",
              "      <td>10.0</td>\n",
              "      <td>9</td>\n",
              "      <td>198248</td>\n",
              "      <td>8619</td>\n",
              "      <td>3697</td>\n",
              "      <td>1580238.0</td>\n",
              "    </tr>\n",
              "    <tr>\n",
              "      <th>6</th>\n",
              "      <td>24</td>\n",
              "      <td>Saturday Night Live</td>\n",
              "      <td>5292034.0</td>\n",
              "      <td>Roy Moore &amp; Jeff Sessions Cold Open - SNL</td>\n",
              "      <td>4.0</td>\n",
              "      <td>17</td>\n",
              "      <td></td>\n",
              "      <td>9951</td>\n",
              "      <td>937</td>\n",
              "      <td>1204461.0</td>\n",
              "    </tr>\n",
              "    <tr>\n",
              "      <th>...</th>\n",
              "      <td>...</td>\n",
              "      <td>...</td>\n",
              "      <td>...</td>\n",
              "      <td>...</td>\n",
              "      <td>...</td>\n",
              "      <td>...</td>\n",
              "      <td>...</td>\n",
              "      <td>...</td>\n",
              "      <td>...</td>\n",
              "      <td>...</td>\n",
              "    </tr>\n",
              "    <tr>\n",
              "      <th>2333</th>\n",
              "      <td>22</td>\n",
              "      <td>KKandbabyJ</td>\n",
              "      <td>757407.0</td>\n",
              "      <td>I Had A Mommy Moment</td>\n",
              "      <td>2.0</td>\n",
              "      <td>14</td>\n",
              "      <td></td>\n",
              "      <td>11207</td>\n",
              "      <td>10120</td>\n",
              "      <td>310372.0</td>\n",
              "    </tr>\n",
              "    <tr>\n",
              "      <th>2334</th>\n",
              "      <td>22</td>\n",
              "      <td>BuzzFeedVideo</td>\n",
              "      <td>14889874.0</td>\n",
              "      <td>Why Is Everyone Wearing Black At The Golden Gl...</td>\n",
              "      <td>3.0</td>\n",
              "      <td>11</td>\n",
              "      <td>118324</td>\n",
              "      <td>0</td>\n",
              "      <td>0</td>\n",
              "      <td>3303773.0</td>\n",
              "    </tr>\n",
              "    <tr>\n",
              "      <th>2335</th>\n",
              "      <td>24</td>\n",
              "      <td>Billions</td>\n",
              "      <td>26248.0</td>\n",
              "      <td>Billions Season 3 (2018) | Official Trailer | ...</td>\n",
              "      <td>8.0</td>\n",
              "      <td>18</td>\n",
              "      <td>272277</td>\n",
              "      <td>16364</td>\n",
              "      <td>11887</td>\n",
              "      <td>774140.0</td>\n",
              "    </tr>\n",
              "    <tr>\n",
              "      <th>2336</th>\n",
              "      <td>17</td>\n",
              "      <td>ESPN</td>\n",
              "      <td>2702088.0</td>\n",
              "      <td>LaVar Ball gets real during interview with ESP...</td>\n",
              "      <td>5.0</td>\n",
              "      <td>18</td>\n",
              "      <td></td>\n",
              "      <td>9308</td>\n",
              "      <td>7459</td>\n",
              "      <td>694588.0</td>\n",
              "    </tr>\n",
              "    <tr>\n",
              "      <th>2337</th>\n",
              "      <td>25</td>\n",
              "      <td>Vox</td>\n",
              "      <td>3808198.0</td>\n",
              "      <td>Iran's massive protests, explained in 4 minutes</td>\n",
              "      <td>1.0</td>\n",
              "      <td>11</td>\n",
              "      <td>258219</td>\n",
              "      <td>14820</td>\n",
              "      <td>11934</td>\n",
              "      <td>1400211.0</td>\n",
              "    </tr>\n",
              "  </tbody>\n",
              "</table>\n",
              "<p>2105 rows × 10 columns</p>\n",
              "</div>\n",
              "      <button class=\"colab-df-convert\" onclick=\"convertToInteractive('df-715af74f-eecc-4787-aa72-308d59c97b24')\"\n",
              "              title=\"Convert this dataframe to an interactive table.\"\n",
              "              style=\"display:none;\">\n",
              "        \n",
              "  <svg xmlns=\"http://www.w3.org/2000/svg\" height=\"24px\"viewBox=\"0 0 24 24\"\n",
              "       width=\"24px\">\n",
              "    <path d=\"M0 0h24v24H0V0z\" fill=\"none\"/>\n",
              "    <path d=\"M18.56 5.44l.94 2.06.94-2.06 2.06-.94-2.06-.94-.94-2.06-.94 2.06-2.06.94zm-11 1L8.5 8.5l.94-2.06 2.06-.94-2.06-.94L8.5 2.5l-.94 2.06-2.06.94zm10 10l.94 2.06.94-2.06 2.06-.94-2.06-.94-.94-2.06-.94 2.06-2.06.94z\"/><path d=\"M17.41 7.96l-1.37-1.37c-.4-.4-.92-.59-1.43-.59-.52 0-1.04.2-1.43.59L10.3 9.45l-7.72 7.72c-.78.78-.78 2.05 0 2.83L4 21.41c.39.39.9.59 1.41.59.51 0 1.02-.2 1.41-.59l7.78-7.78 2.81-2.81c.8-.78.8-2.07 0-2.86zM5.41 20L4 18.59l7.72-7.72 1.47 1.35L5.41 20z\"/>\n",
              "  </svg>\n",
              "      </button>\n",
              "      \n",
              "  <style>\n",
              "    .colab-df-container {\n",
              "      display:flex;\n",
              "      flex-wrap:wrap;\n",
              "      gap: 12px;\n",
              "    }\n",
              "\n",
              "    .colab-df-convert {\n",
              "      background-color: #E8F0FE;\n",
              "      border: none;\n",
              "      border-radius: 50%;\n",
              "      cursor: pointer;\n",
              "      display: none;\n",
              "      fill: #1967D2;\n",
              "      height: 32px;\n",
              "      padding: 0 0 0 0;\n",
              "      width: 32px;\n",
              "    }\n",
              "\n",
              "    .colab-df-convert:hover {\n",
              "      background-color: #E2EBFA;\n",
              "      box-shadow: 0px 1px 2px rgba(60, 64, 67, 0.3), 0px 1px 3px 1px rgba(60, 64, 67, 0.15);\n",
              "      fill: #174EA6;\n",
              "    }\n",
              "\n",
              "    [theme=dark] .colab-df-convert {\n",
              "      background-color: #3B4455;\n",
              "      fill: #D2E3FC;\n",
              "    }\n",
              "\n",
              "    [theme=dark] .colab-df-convert:hover {\n",
              "      background-color: #434B5C;\n",
              "      box-shadow: 0px 1px 3px 1px rgba(0, 0, 0, 0.15);\n",
              "      filter: drop-shadow(0px 1px 2px rgba(0, 0, 0, 0.3));\n",
              "      fill: #FFFFFF;\n",
              "    }\n",
              "  </style>\n",
              "\n",
              "      <script>\n",
              "        const buttonEl =\n",
              "          document.querySelector('#df-715af74f-eecc-4787-aa72-308d59c97b24 button.colab-df-convert');\n",
              "        buttonEl.style.display =\n",
              "          google.colab.kernel.accessAllowed ? 'block' : 'none';\n",
              "\n",
              "        async function convertToInteractive(key) {\n",
              "          const element = document.querySelector('#df-715af74f-eecc-4787-aa72-308d59c97b24');\n",
              "          const dataTable =\n",
              "            await google.colab.kernel.invokeFunction('convertToInteractive',\n",
              "                                                     [key], {});\n",
              "          if (!dataTable) return;\n",
              "\n",
              "          const docLinkHtml = 'Like what you see? Visit the ' +\n",
              "            '<a target=\"_blank\" href=https://colab.research.google.com/notebooks/data_table.ipynb>data table notebook</a>'\n",
              "            + ' to learn more about interactive tables.';\n",
              "          element.innerHTML = '';\n",
              "          dataTable['output_type'] = 'display_data';\n",
              "          await google.colab.output.renderOutput(dataTable, element);\n",
              "          const docLink = document.createElement('div');\n",
              "          docLink.innerHTML = docLinkHtml;\n",
              "          element.appendChild(docLink);\n",
              "        }\n",
              "      </script>\n",
              "    </div>\n",
              "  </div>\n",
              "  "
            ]
          },
          "metadata": {},
          "execution_count": 24
        }
      ]
    },
    {
      "cell_type": "code",
      "source": [
        "print(dataset.info())"
      ],
      "metadata": {
        "colab": {
          "base_uri": "https://localhost:8080/"
        },
        "id": "g8uLRRY2_1DU",
        "outputId": "96c64eb0-3b3a-46ee-a80e-8c4a03e8b443"
      },
      "execution_count": 25,
      "outputs": [
        {
          "output_type": "stream",
          "name": "stdout",
          "text": [
            "<class 'pandas.core.frame.DataFrame'>\n",
            "RangeIndex: 2340 entries, 0 to 2339\n",
            "Data columns (total 10 columns):\n",
            " #   Column           Non-Null Count  Dtype  \n",
            "---  ------           --------------  -----  \n",
            " 0   category_id      2334 non-null   object \n",
            " 1   channel_title    2337 non-null   object \n",
            " 2   subscriber       2320 non-null   float64\n",
            " 3   title            2337 non-null   object \n",
            " 4   Trend_day_count  2339 non-null   float64\n",
            " 5   Tag_count        2339 non-null   object \n",
            " 6   comment_count    2340 non-null   object \n",
            " 7   likes            2340 non-null   object \n",
            " 8   dislike          2340 non-null   object \n",
            " 9   views            2339 non-null   float64\n",
            "dtypes: float64(3), object(7)\n",
            "memory usage: 182.9+ KB\n",
            "None\n"
          ]
        }
      ]
    },
    {
      "cell_type": "code",
      "source": [
        "dataset[\"views\"]=dataset[\"views\"].fillna(0)"
      ],
      "metadata": {
        "id": "QtNwohtjA5of"
      },
      "execution_count": 30,
      "outputs": []
    },
    {
      "cell_type": "code",
      "source": [
        "print(dataset.info())"
      ],
      "metadata": {
        "colab": {
          "base_uri": "https://localhost:8080/"
        },
        "id": "dKxwj_y-BBJF",
        "outputId": "e3f7e2bc-813f-48f4-afdc-9bfac6a64c43"
      },
      "execution_count": 31,
      "outputs": [
        {
          "output_type": "stream",
          "name": "stdout",
          "text": [
            "<class 'pandas.core.frame.DataFrame'>\n",
            "RangeIndex: 2340 entries, 0 to 2339\n",
            "Data columns (total 10 columns):\n",
            " #   Column           Non-Null Count  Dtype  \n",
            "---  ------           --------------  -----  \n",
            " 0   category_id      2334 non-null   object \n",
            " 1   channel_title    2337 non-null   object \n",
            " 2   subscriber       2320 non-null   float64\n",
            " 3   title            2337 non-null   object \n",
            " 4   Trend_day_count  2339 non-null   float64\n",
            " 5   Tag_count        2339 non-null   object \n",
            " 6   comment_count    2340 non-null   object \n",
            " 7   likes            2340 non-null   object \n",
            " 8   dislike          2340 non-null   object \n",
            " 9   views            2340 non-null   float64\n",
            "dtypes: float64(3), object(7)\n",
            "memory usage: 182.9+ KB\n",
            "None\n"
          ]
        }
      ]
    },
    {
      "cell_type": "code",
      "source": [
        "dataset[\"category_id\"]=dataset[\"category_id\"].fillna(0)\n",
        "dataset[\"channel_title\"]=dataset[\"channel_title\"].fillna(\"None\")\n",
        "dataset[\"subscriber\"]=dataset[\"subscriber\"].fillna(0)\n",
        "dataset[\"title\"]=dataset[\"title\"].fillna(\"None\")\n",
        "dataset[\"Trend_day_count\"]=dataset[\"Trend_day_count\"].fillna(0)\n",
        "dataset[\"Tag_count\"]=dataset[\"Tag_count\"].fillna(0)\n"
      ],
      "metadata": {
        "id": "3gPVzbAUBFGu"
      },
      "execution_count": 33,
      "outputs": []
    },
    {
      "cell_type": "code",
      "source": [
        "print(dataset.info())"
      ],
      "metadata": {
        "colab": {
          "base_uri": "https://localhost:8080/"
        },
        "id": "Zx5zDNIiBzHW",
        "outputId": "32971e0c-3cce-4f2a-c3c5-92783f0401e1"
      },
      "execution_count": 34,
      "outputs": [
        {
          "output_type": "stream",
          "name": "stdout",
          "text": [
            "<class 'pandas.core.frame.DataFrame'>\n",
            "RangeIndex: 2340 entries, 0 to 2339\n",
            "Data columns (total 10 columns):\n",
            " #   Column           Non-Null Count  Dtype  \n",
            "---  ------           --------------  -----  \n",
            " 0   category_id      2340 non-null   object \n",
            " 1   channel_title    2340 non-null   object \n",
            " 2   subscriber       2340 non-null   float64\n",
            " 3   title            2340 non-null   object \n",
            " 4   Trend_day_count  2340 non-null   float64\n",
            " 5   Tag_count        2340 non-null   object \n",
            " 6   comment_count    2340 non-null   object \n",
            " 7   likes            2340 non-null   object \n",
            " 8   dislike          2340 non-null   object \n",
            " 9   views            2340 non-null   float64\n",
            "dtypes: float64(3), object(7)\n",
            "memory usage: 182.9+ KB\n",
            "None\n"
          ]
        }
      ]
    }
  ]
}