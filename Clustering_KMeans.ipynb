{
  "nbformat": 4,
  "nbformat_minor": 0,
  "metadata": {
    "colab": {
      "provenance": []
    },
    "kernelspec": {
      "name": "python3",
      "display_name": "Python 3"
    },
    "language_info": {
      "name": "python"
    }
  },
  "cells": [
    {
      "cell_type": "markdown",
      "source": [
        "# LOAD THE LIBRARIES AND DATASET"
      ],
      "metadata": {
        "id": "ajgVOe_nTWff"
      }
    },
    {
      "cell_type": "code",
      "execution_count": 1,
      "metadata": {
        "id": "rNnpcKrvRpvT"
      },
      "outputs": [],
      "source": [
        "import numpy as np\n",
        "import pandas as pd\n",
        "import matplotlib.pyplot as plt\n",
        "from sklearn.model_selection import train_test_split\n",
        "import seaborn as sns\n",
        "from sklearn.preprocessing import LabelEncoder\n",
        "from sklearn.cluster import KMeans"
      ]
    },
    {
      "cell_type": "code",
      "source": [
        "df=pd.read_excel(\"/content/cust_data.xlsx\")\n",
        "df.head()"
      ],
      "metadata": {
        "colab": {
          "base_uri": "https://localhost:8080/",
          "height": 316
        },
        "id": "mNI2w-s6SQnC",
        "outputId": "a6d2a750-3f5d-4620-87d0-5c0cd6b85fb9"
      },
      "execution_count": 3,
      "outputs": [
        {
          "output_type": "execute_result",
          "data": {
            "text/plain": [
              "   Cust_ID Gender  Orders  Jordan  Gatorade  Samsung  Asus  Udis  \\\n",
              "0        1      M       7       0         0        0     0     0   \n",
              "1        2      F       0       0         1        0     0     0   \n",
              "2        3      M       7       0         1        0     0     0   \n",
              "3        4      F       0       0         0        0     0     0   \n",
              "4        5    NaN      10       0         0        0     0     0   \n",
              "\n",
              "   Mondelez International  Wrangler  ...  LG  Dior  Scabal  Tommy Hilfiger  \\\n",
              "0                       0         0  ...   0     0       0               0   \n",
              "1                       0         0  ...   0     1       0               0   \n",
              "2                       0         0  ...   0     0       0               0   \n",
              "3                       0         0  ...   0     0       0               0   \n",
              "4                       0         0  ...   0     0       2               0   \n",
              "\n",
              "   Hollister  Forever 21  Colavita  Microsoft  Jiffy mix  Kraft  \n",
              "0          0           0         0          0          0      0  \n",
              "1          0           0         0          0          0      0  \n",
              "2          0           0         0          1          0      0  \n",
              "3          0           0         0          0          0      0  \n",
              "4          0           0         0          0          1      1  \n",
              "\n",
              "[5 rows x 38 columns]"
            ],
            "text/html": [
              "\n",
              "  <div id=\"df-282450a6-9416-4076-b19a-4d6c7bdfcc0d\">\n",
              "    <div class=\"colab-df-container\">\n",
              "      <div>\n",
              "<style scoped>\n",
              "    .dataframe tbody tr th:only-of-type {\n",
              "        vertical-align: middle;\n",
              "    }\n",
              "\n",
              "    .dataframe tbody tr th {\n",
              "        vertical-align: top;\n",
              "    }\n",
              "\n",
              "    .dataframe thead th {\n",
              "        text-align: right;\n",
              "    }\n",
              "</style>\n",
              "<table border=\"1\" class=\"dataframe\">\n",
              "  <thead>\n",
              "    <tr style=\"text-align: right;\">\n",
              "      <th></th>\n",
              "      <th>Cust_ID</th>\n",
              "      <th>Gender</th>\n",
              "      <th>Orders</th>\n",
              "      <th>Jordan</th>\n",
              "      <th>Gatorade</th>\n",
              "      <th>Samsung</th>\n",
              "      <th>Asus</th>\n",
              "      <th>Udis</th>\n",
              "      <th>Mondelez International</th>\n",
              "      <th>Wrangler</th>\n",
              "      <th>...</th>\n",
              "      <th>LG</th>\n",
              "      <th>Dior</th>\n",
              "      <th>Scabal</th>\n",
              "      <th>Tommy Hilfiger</th>\n",
              "      <th>Hollister</th>\n",
              "      <th>Forever 21</th>\n",
              "      <th>Colavita</th>\n",
              "      <th>Microsoft</th>\n",
              "      <th>Jiffy mix</th>\n",
              "      <th>Kraft</th>\n",
              "    </tr>\n",
              "  </thead>\n",
              "  <tbody>\n",
              "    <tr>\n",
              "      <th>0</th>\n",
              "      <td>1</td>\n",
              "      <td>M</td>\n",
              "      <td>7</td>\n",
              "      <td>0</td>\n",
              "      <td>0</td>\n",
              "      <td>0</td>\n",
              "      <td>0</td>\n",
              "      <td>0</td>\n",
              "      <td>0</td>\n",
              "      <td>0</td>\n",
              "      <td>...</td>\n",
              "      <td>0</td>\n",
              "      <td>0</td>\n",
              "      <td>0</td>\n",
              "      <td>0</td>\n",
              "      <td>0</td>\n",
              "      <td>0</td>\n",
              "      <td>0</td>\n",
              "      <td>0</td>\n",
              "      <td>0</td>\n",
              "      <td>0</td>\n",
              "    </tr>\n",
              "    <tr>\n",
              "      <th>1</th>\n",
              "      <td>2</td>\n",
              "      <td>F</td>\n",
              "      <td>0</td>\n",
              "      <td>0</td>\n",
              "      <td>1</td>\n",
              "      <td>0</td>\n",
              "      <td>0</td>\n",
              "      <td>0</td>\n",
              "      <td>0</td>\n",
              "      <td>0</td>\n",
              "      <td>...</td>\n",
              "      <td>0</td>\n",
              "      <td>1</td>\n",
              "      <td>0</td>\n",
              "      <td>0</td>\n",
              "      <td>0</td>\n",
              "      <td>0</td>\n",
              "      <td>0</td>\n",
              "      <td>0</td>\n",
              "      <td>0</td>\n",
              "      <td>0</td>\n",
              "    </tr>\n",
              "    <tr>\n",
              "      <th>2</th>\n",
              "      <td>3</td>\n",
              "      <td>M</td>\n",
              "      <td>7</td>\n",
              "      <td>0</td>\n",
              "      <td>1</td>\n",
              "      <td>0</td>\n",
              "      <td>0</td>\n",
              "      <td>0</td>\n",
              "      <td>0</td>\n",
              "      <td>0</td>\n",
              "      <td>...</td>\n",
              "      <td>0</td>\n",
              "      <td>0</td>\n",
              "      <td>0</td>\n",
              "      <td>0</td>\n",
              "      <td>0</td>\n",
              "      <td>0</td>\n",
              "      <td>0</td>\n",
              "      <td>1</td>\n",
              "      <td>0</td>\n",
              "      <td>0</td>\n",
              "    </tr>\n",
              "    <tr>\n",
              "      <th>3</th>\n",
              "      <td>4</td>\n",
              "      <td>F</td>\n",
              "      <td>0</td>\n",
              "      <td>0</td>\n",
              "      <td>0</td>\n",
              "      <td>0</td>\n",
              "      <td>0</td>\n",
              "      <td>0</td>\n",
              "      <td>0</td>\n",
              "      <td>0</td>\n",
              "      <td>...</td>\n",
              "      <td>0</td>\n",
              "      <td>0</td>\n",
              "      <td>0</td>\n",
              "      <td>0</td>\n",
              "      <td>0</td>\n",
              "      <td>0</td>\n",
              "      <td>0</td>\n",
              "      <td>0</td>\n",
              "      <td>0</td>\n",
              "      <td>0</td>\n",
              "    </tr>\n",
              "    <tr>\n",
              "      <th>4</th>\n",
              "      <td>5</td>\n",
              "      <td>NaN</td>\n",
              "      <td>10</td>\n",
              "      <td>0</td>\n",
              "      <td>0</td>\n",
              "      <td>0</td>\n",
              "      <td>0</td>\n",
              "      <td>0</td>\n",
              "      <td>0</td>\n",
              "      <td>0</td>\n",
              "      <td>...</td>\n",
              "      <td>0</td>\n",
              "      <td>0</td>\n",
              "      <td>2</td>\n",
              "      <td>0</td>\n",
              "      <td>0</td>\n",
              "      <td>0</td>\n",
              "      <td>0</td>\n",
              "      <td>0</td>\n",
              "      <td>1</td>\n",
              "      <td>1</td>\n",
              "    </tr>\n",
              "  </tbody>\n",
              "</table>\n",
              "<p>5 rows × 38 columns</p>\n",
              "</div>\n",
              "      <button class=\"colab-df-convert\" onclick=\"convertToInteractive('df-282450a6-9416-4076-b19a-4d6c7bdfcc0d')\"\n",
              "              title=\"Convert this dataframe to an interactive table.\"\n",
              "              style=\"display:none;\">\n",
              "        \n",
              "  <svg xmlns=\"http://www.w3.org/2000/svg\" height=\"24px\"viewBox=\"0 0 24 24\"\n",
              "       width=\"24px\">\n",
              "    <path d=\"M0 0h24v24H0V0z\" fill=\"none\"/>\n",
              "    <path d=\"M18.56 5.44l.94 2.06.94-2.06 2.06-.94-2.06-.94-.94-2.06-.94 2.06-2.06.94zm-11 1L8.5 8.5l.94-2.06 2.06-.94-2.06-.94L8.5 2.5l-.94 2.06-2.06.94zm10 10l.94 2.06.94-2.06 2.06-.94-2.06-.94-.94-2.06-.94 2.06-2.06.94z\"/><path d=\"M17.41 7.96l-1.37-1.37c-.4-.4-.92-.59-1.43-.59-.52 0-1.04.2-1.43.59L10.3 9.45l-7.72 7.72c-.78.78-.78 2.05 0 2.83L4 21.41c.39.39.9.59 1.41.59.51 0 1.02-.2 1.41-.59l7.78-7.78 2.81-2.81c.8-.78.8-2.07 0-2.86zM5.41 20L4 18.59l7.72-7.72 1.47 1.35L5.41 20z\"/>\n",
              "  </svg>\n",
              "      </button>\n",
              "      \n",
              "  <style>\n",
              "    .colab-df-container {\n",
              "      display:flex;\n",
              "      flex-wrap:wrap;\n",
              "      gap: 12px;\n",
              "    }\n",
              "\n",
              "    .colab-df-convert {\n",
              "      background-color: #E8F0FE;\n",
              "      border: none;\n",
              "      border-radius: 50%;\n",
              "      cursor: pointer;\n",
              "      display: none;\n",
              "      fill: #1967D2;\n",
              "      height: 32px;\n",
              "      padding: 0 0 0 0;\n",
              "      width: 32px;\n",
              "    }\n",
              "\n",
              "    .colab-df-convert:hover {\n",
              "      background-color: #E2EBFA;\n",
              "      box-shadow: 0px 1px 2px rgba(60, 64, 67, 0.3), 0px 1px 3px 1px rgba(60, 64, 67, 0.15);\n",
              "      fill: #174EA6;\n",
              "    }\n",
              "\n",
              "    [theme=dark] .colab-df-convert {\n",
              "      background-color: #3B4455;\n",
              "      fill: #D2E3FC;\n",
              "    }\n",
              "\n",
              "    [theme=dark] .colab-df-convert:hover {\n",
              "      background-color: #434B5C;\n",
              "      box-shadow: 0px 1px 3px 1px rgba(0, 0, 0, 0.15);\n",
              "      filter: drop-shadow(0px 1px 2px rgba(0, 0, 0, 0.3));\n",
              "      fill: #FFFFFF;\n",
              "    }\n",
              "  </style>\n",
              "\n",
              "      <script>\n",
              "        const buttonEl =\n",
              "          document.querySelector('#df-282450a6-9416-4076-b19a-4d6c7bdfcc0d button.colab-df-convert');\n",
              "        buttonEl.style.display =\n",
              "          google.colab.kernel.accessAllowed ? 'block' : 'none';\n",
              "\n",
              "        async function convertToInteractive(key) {\n",
              "          const element = document.querySelector('#df-282450a6-9416-4076-b19a-4d6c7bdfcc0d');\n",
              "          const dataTable =\n",
              "            await google.colab.kernel.invokeFunction('convertToInteractive',\n",
              "                                                     [key], {});\n",
              "          if (!dataTable) return;\n",
              "\n",
              "          const docLinkHtml = 'Like what you see? Visit the ' +\n",
              "            '<a target=\"_blank\" href=https://colab.research.google.com/notebooks/data_table.ipynb>data table notebook</a>'\n",
              "            + ' to learn more about interactive tables.';\n",
              "          element.innerHTML = '';\n",
              "          dataTable['output_type'] = 'display_data';\n",
              "          await google.colab.output.renderOutput(dataTable, element);\n",
              "          const docLink = document.createElement('div');\n",
              "          docLink.innerHTML = docLinkHtml;\n",
              "          element.appendChild(docLink);\n",
              "        }\n",
              "      </script>\n",
              "    </div>\n",
              "  </div>\n",
              "  "
            ]
          },
          "metadata": {},
          "execution_count": 3
        }
      ]
    },
    {
      "cell_type": "markdown",
      "source": [
        "# ANALYZING THE DATA"
      ],
      "metadata": {
        "id": "87PBLAIJUg--"
      }
    },
    {
      "cell_type": "code",
      "source": [
        "df.info()"
      ],
      "metadata": {
        "colab": {
          "base_uri": "https://localhost:8080/"
        },
        "id": "D1pqQ1O0UB6t",
        "outputId": "88a5f058-b824-4449-a134-c656a9556a07"
      },
      "execution_count": 4,
      "outputs": [
        {
          "output_type": "stream",
          "name": "stdout",
          "text": [
            "<class 'pandas.core.frame.DataFrame'>\n",
            "RangeIndex: 30000 entries, 0 to 29999\n",
            "Data columns (total 38 columns):\n",
            " #   Column                  Non-Null Count  Dtype \n",
            "---  ------                  --------------  ----- \n",
            " 0   Cust_ID                 30000 non-null  int64 \n",
            " 1   Gender                  27276 non-null  object\n",
            " 2   Orders                  30000 non-null  int64 \n",
            " 3   Jordan                  30000 non-null  int64 \n",
            " 4   Gatorade                30000 non-null  int64 \n",
            " 5   Samsung                 30000 non-null  int64 \n",
            " 6   Asus                    30000 non-null  int64 \n",
            " 7   Udis                    30000 non-null  int64 \n",
            " 8   Mondelez International  30000 non-null  int64 \n",
            " 9   Wrangler                30000 non-null  int64 \n",
            " 10  Vans                    30000 non-null  int64 \n",
            " 11  Fila                    30000 non-null  int64 \n",
            " 12  Brooks                  30000 non-null  int64 \n",
            " 13  H&M                     30000 non-null  int64 \n",
            " 14  Dairy Queen             30000 non-null  int64 \n",
            " 15  Fendi                   30000 non-null  int64 \n",
            " 16  Hewlett Packard         30000 non-null  int64 \n",
            " 17  Pladis                  30000 non-null  int64 \n",
            " 18  Asics                   30000 non-null  int64 \n",
            " 19  Siemens                 30000 non-null  int64 \n",
            " 20  J.M. Smucker            30000 non-null  int64 \n",
            " 21  Pop Chips               30000 non-null  int64 \n",
            " 22  Juniper                 30000 non-null  int64 \n",
            " 23  Huawei                  30000 non-null  int64 \n",
            " 24  Compaq                  30000 non-null  int64 \n",
            " 25  IBM                     30000 non-null  int64 \n",
            " 26  Burberry                30000 non-null  int64 \n",
            " 27  Mi                      30000 non-null  int64 \n",
            " 28  LG                      30000 non-null  int64 \n",
            " 29  Dior                    30000 non-null  int64 \n",
            " 30  Scabal                  30000 non-null  int64 \n",
            " 31  Tommy Hilfiger          30000 non-null  int64 \n",
            " 32  Hollister               30000 non-null  int64 \n",
            " 33  Forever 21              30000 non-null  int64 \n",
            " 34  Colavita                30000 non-null  int64 \n",
            " 35  Microsoft               30000 non-null  int64 \n",
            " 36  Jiffy mix               30000 non-null  int64 \n",
            " 37  Kraft                   30000 non-null  int64 \n",
            "dtypes: int64(37), object(1)\n",
            "memory usage: 8.7+ MB\n"
          ]
        }
      ]
    },
    {
      "cell_type": "markdown",
      "source": [
        "# PERFORMING EDA"
      ],
      "metadata": {
        "id": "iN3j0KTrX85U"
      }
    },
    {
      "cell_type": "markdown",
      "source": [
        "**FILLING NULL VLAUES**"
      ],
      "metadata": {
        "id": "QVd6DPiLUc6R"
      }
    },
    {
      "cell_type": "code",
      "source": [
        "df[\"Gender\"]=df[\"Gender\"].fillna(df[\"Gender\"].mode()[0])"
      ],
      "metadata": {
        "id": "FUDCyBT_UcM_"
      },
      "execution_count": 5,
      "outputs": []
    },
    {
      "cell_type": "code",
      "source": [
        "df.info()"
      ],
      "metadata": {
        "colab": {
          "base_uri": "https://localhost:8080/"
        },
        "id": "1Hp6QfVCUs4u",
        "outputId": "be7c16e6-3baf-40ae-d2a3-91b53bd3eb9d"
      },
      "execution_count": 6,
      "outputs": [
        {
          "output_type": "stream",
          "name": "stdout",
          "text": [
            "<class 'pandas.core.frame.DataFrame'>\n",
            "RangeIndex: 30000 entries, 0 to 29999\n",
            "Data columns (total 38 columns):\n",
            " #   Column                  Non-Null Count  Dtype \n",
            "---  ------                  --------------  ----- \n",
            " 0   Cust_ID                 30000 non-null  int64 \n",
            " 1   Gender                  30000 non-null  object\n",
            " 2   Orders                  30000 non-null  int64 \n",
            " 3   Jordan                  30000 non-null  int64 \n",
            " 4   Gatorade                30000 non-null  int64 \n",
            " 5   Samsung                 30000 non-null  int64 \n",
            " 6   Asus                    30000 non-null  int64 \n",
            " 7   Udis                    30000 non-null  int64 \n",
            " 8   Mondelez International  30000 non-null  int64 \n",
            " 9   Wrangler                30000 non-null  int64 \n",
            " 10  Vans                    30000 non-null  int64 \n",
            " 11  Fila                    30000 non-null  int64 \n",
            " 12  Brooks                  30000 non-null  int64 \n",
            " 13  H&M                     30000 non-null  int64 \n",
            " 14  Dairy Queen             30000 non-null  int64 \n",
            " 15  Fendi                   30000 non-null  int64 \n",
            " 16  Hewlett Packard         30000 non-null  int64 \n",
            " 17  Pladis                  30000 non-null  int64 \n",
            " 18  Asics                   30000 non-null  int64 \n",
            " 19  Siemens                 30000 non-null  int64 \n",
            " 20  J.M. Smucker            30000 non-null  int64 \n",
            " 21  Pop Chips               30000 non-null  int64 \n",
            " 22  Juniper                 30000 non-null  int64 \n",
            " 23  Huawei                  30000 non-null  int64 \n",
            " 24  Compaq                  30000 non-null  int64 \n",
            " 25  IBM                     30000 non-null  int64 \n",
            " 26  Burberry                30000 non-null  int64 \n",
            " 27  Mi                      30000 non-null  int64 \n",
            " 28  LG                      30000 non-null  int64 \n",
            " 29  Dior                    30000 non-null  int64 \n",
            " 30  Scabal                  30000 non-null  int64 \n",
            " 31  Tommy Hilfiger          30000 non-null  int64 \n",
            " 32  Hollister               30000 non-null  int64 \n",
            " 33  Forever 21              30000 non-null  int64 \n",
            " 34  Colavita                30000 non-null  int64 \n",
            " 35  Microsoft               30000 non-null  int64 \n",
            " 36  Jiffy mix               30000 non-null  int64 \n",
            " 37  Kraft                   30000 non-null  int64 \n",
            "dtypes: int64(37), object(1)\n",
            "memory usage: 8.7+ MB\n"
          ]
        }
      ]
    },
    {
      "cell_type": "code",
      "source": [
        "sns.boxplot(df[\"Jordan\"])"
      ],
      "metadata": {
        "colab": {
          "base_uri": "https://localhost:8080/",
          "height": 286
        },
        "id": "pibYcNmMV558",
        "outputId": "8376d863-0634-4ba0-ec0e-b42a0fa4fc11"
      },
      "execution_count": 7,
      "outputs": [
        {
          "output_type": "execute_result",
          "data": {
            "text/plain": [
              "<Axes: >"
            ]
          },
          "metadata": {},
          "execution_count": 7
        },
        {
          "output_type": "display_data",
          "data": {
            "text/plain": [
              "<Figure size 432x288 with 1 Axes>"
            ],
            "image/png": "[encoded data removed]"
          },
          "metadata": {
            "needs_background": "light"
          }
        }
      ]
    },
    {
      "cell_type": "markdown",
      "source": [
        "**ENCODING**"
      ],
      "metadata": {
        "id": "WkJm34ztYGeu"
      }
    },
    {
      "cell_type": "code",
      "source": [
        "df[\"Gender\"].value_counts()"
      ],
      "metadata": {
        "colab": {
          "base_uri": "https://localhost:8080/"
        },
        "id": "3kDG9LFTWbRe",
        "outputId": "0b6f0851-daee-462b-b3bf-caddbc2c9e60"
      },
      "execution_count": 8,
      "outputs": [
        {
          "output_type": "execute_result",
          "data": {
            "text/plain": [
              "F    24778\n",
              "M     5222\n",
              "Name: Gender, dtype: int64"
            ]
          },
          "metadata": {},
          "execution_count": 8
        }
      ]
    },
    {
      "cell_type": "code",
      "source": [
        "le=LabelEncoder()\n",
        "df[\"Gender\"]=le.fit_transform(df[\"Gender\"])"
      ],
      "metadata": {
        "id": "mLeGjmJ_WvnN"
      },
      "execution_count": 9,
      "outputs": []
    },
    {
      "cell_type": "code",
      "source": [
        "df.head()"
      ],
      "metadata": {
        "colab": {
          "base_uri": "https://localhost:8080/",
          "height": 316
        },
        "id": "L-k9jyOGXiFt",
        "outputId": "4529addf-b1d2-41d3-f720-ec2fc44b44e7"
      },
      "execution_count": 10,
      "outputs": [
        {
          "output_type": "execute_result",
          "data": {
            "text/plain": [
              "   Cust_ID  Gender  Orders  Jordan  Gatorade  Samsung  Asus  Udis  \\\n",
              "0        1       1       7       0         0        0     0     0   \n",
              "1        2       0       0       0         1        0     0     0   \n",
              "2        3       1       7       0         1        0     0     0   \n",
              "3        4       0       0       0         0        0     0     0   \n",
              "4        5       0      10       0         0        0     0     0   \n",
              "\n",
              "   Mondelez International  Wrangler  ...  LG  Dior  Scabal  Tommy Hilfiger  \\\n",
              "0                       0         0  ...   0     0       0               0   \n",
              "1                       0         0  ...   0     1       0               0   \n",
              "2                       0         0  ...   0     0       0               0   \n",
              "3                       0         0  ...   0     0       0               0   \n",
              "4                       0         0  ...   0     0       2               0   \n",
              "\n",
              "   Hollister  Forever 21  Colavita  Microsoft  Jiffy mix  Kraft  \n",
              "0          0           0         0          0          0      0  \n",
              "1          0           0         0          0          0      0  \n",
              "2          0           0         0          1          0      0  \n",
              "3          0           0         0          0          0      0  \n",
              "4          0           0         0          0          1      1  \n",
              "\n",
              "[5 rows x 38 columns]"
            ],
            "text/html": [
              "\n",
              "  <div id=\"df-8eee3f13-b3e7-4aba-93f1-622070aa88bc\">\n",
              "    <div class=\"colab-df-container\">\n",
              "      <div>\n",
              "<style scoped>\n",
              "    .dataframe tbody tr th:only-of-type {\n",
              "        vertical-align: middle;\n",
              "    }\n",
              "\n",
              "    .dataframe tbody tr th {\n",
              "        vertical-align: top;\n",
              "    }\n",
              "\n",
              "    .dataframe thead th {\n",
              "        text-align: right;\n",
              "    }\n",
              "</style>\n",
              "<table border=\"1\" class=\"dataframe\">\n",
              "  <thead>\n",
              "    <tr style=\"text-align: right;\">\n",
              "      <th></th>\n",
              "      <th>Cust_ID</th>\n",
              "      <th>Gender</th>\n",
              "      <th>Orders</th>\n",
              "      <th>Jordan</th>\n",
              "      <th>Gatorade</th>\n",
              "      <th>Samsung</th>\n",
              "      <th>Asus</th>\n",
              "      <th>Udis</th>\n",
              "      <th>Mondelez International</th>\n",
              "      <th>Wrangler</th>\n",
              "      <th>...</th>\n",
              "      <th>LG</th>\n",
              "      <th>Dior</th>\n",
              "      <th>Scabal</th>\n",
              "      <th>Tommy Hilfiger</th>\n",
              "      <th>Hollister</th>\n",
              "      <th>Forever 21</th>\n",
              "      <th>Colavita</th>\n",
              "      <th>Microsoft</th>\n",
              "      <th>Jiffy mix</th>\n",
              "      <th>Kraft</th>\n",
              "    </tr>\n",
              "  </thead>\n",
              "  <tbody>\n",
              "    <tr>\n",
              "      <th>0</th>\n",
              "      <td>1</td>\n",
              "      <td>1</td>\n",
              "      <td>7</td>\n",
              "      <td>0</td>\n",
              "      <td>0</td>\n",
              "      <td>0</td>\n",
              "      <td>0</td>\n",
              "      <td>0</td>\n",
              "      <td>0</td>\n",
              "      <td>0</td>\n",
              "      <td>...</td>\n",
              "      <td>0</td>\n",
              "      <td>0</td>\n",
              "      <td>0</td>\n",
              "      <td>0</td>\n",
              "      <td>0</td>\n",
              "      <td>0</td>\n",
              "      <td>0</td>\n",
              "      <td>0</td>\n",
              "      <td>0</td>\n",
              "      <td>0</td>\n",
              "    </tr>\n",
              "    <tr>\n",
              "      <th>1</th>\n",
              "      <td>2</td>\n",
              "      <td>0</td>\n",
              "      <td>0</td>\n",
              "      <td>0</td>\n",
              "      <td>1</td>\n",
              "      <td>0</td>\n",
              "      <td>0</td>\n",
              "      <td>0</td>\n",
              "      <td>0</td>\n",
              "      <td>0</td>\n",
              "      <td>...</td>\n",
              "      <td>0</td>\n",
              "      <td>1</td>\n",
              "      <td>0</td>\n",
              "      <td>0</td>\n",
              "      <td>0</td>\n",
              "      <td>0</td>\n",
              "      <td>0</td>\n",
              "      <td>0</td>\n",
              "      <td>0</td>\n",
              "      <td>0</td>\n",
              "    </tr>\n",
              "    <tr>\n",
              "      <th>2</th>\n",
              "      <td>3</td>\n",
              "      <td>1</td>\n",
              "      <td>7</td>\n",
              "      <td>0</td>\n",
              "      <td>1</td>\n",
              "      <td>0</td>\n",
              "      <td>0</td>\n",
              "      <td>0</td>\n",
              "      <td>0</td>\n",
              "      <td>0</td>\n",
              "      <td>...</td>\n",
              "      <td>0</td>\n",
              "      <td>0</td>\n",
              "      <td>0</td>\n",
              "      <td>0</td>\n",
              "      <td>0</td>\n",
              "      <td>0</td>\n",
              "      <td>0</td>\n",
              "      <td>1</td>\n",
              "      <td>0</td>\n",
              "      <td>0</td>\n",
              "    </tr>\n",
              "    <tr>\n",
              "      <th>3</th>\n",
              "      <td>4</td>\n",
              "      <td>0</td>\n",
              "      <td>0</td>\n",
              "      <td>0</td>\n",
              "      <td>0</td>\n",
              "      <td>0</td>\n",
              "      <td>0</td>\n",
              "      <td>0</td>\n",
              "      <td>0</td>\n",
              "      <td>0</td>\n",
              "      <td>...</td>\n",
              "      <td>0</td>\n",
              "      <td>0</td>\n",
              "      <td>0</td>\n",
              "      <td>0</td>\n",
              "      <td>0</td>\n",
              "      <td>0</td>\n",
              "      <td>0</td>\n",
              "      <td>0</td>\n",
              "      <td>0</td>\n",
              "      <td>0</td>\n",
              "    </tr>\n",
              "    <tr>\n",
              "      <th>4</th>\n",
              "      <td>5</td>\n",
              "      <td>0</td>\n",
              "      <td>10</td>\n",
              "      <td>0</td>\n",
              "      <td>0</td>\n",
              "      <td>0</td>\n",
              "      <td>0</td>\n",
              "      <td>0</td>\n",
              "      <td>0</td>\n",
              "      <td>0</td>\n",
              "      <td>...</td>\n",
              "      <td>0</td>\n",
              "      <td>0</td>\n",
              "      <td>2</td>\n",
              "      <td>0</td>\n",
              "      <td>0</td>\n",
              "      <td>0</td>\n",
              "      <td>0</td>\n",
              "      <td>0</td>\n",
              "      <td>1</td>\n",
              "      <td>1</td>\n",
              "    </tr>\n",
              "  </tbody>\n",
              "</table>\n",
              "<p>5 rows × 38 columns</p>\n",
              "</div>\n",
              "      <button class=\"colab-df-convert\" onclick=\"convertToInteractive('df-8eee3f13-b3e7-4aba-93f1-622070aa88bc')\"\n",
              "              title=\"Convert this dataframe to an interactive table.\"\n",
              "              style=\"display:none;\">\n",
              "        \n",
              "  <svg xmlns=\"http://www.w3.org/2000/svg\" height=\"24px\"viewBox=\"0 0 24 24\"\n",
              "       width=\"24px\">\n",
              "    <path d=\"M0 0h24v24H0V0z\" fill=\"none\"/>\n",
              "    <path d=\"M18.56 5.44l.94 2.06.94-2.06 2.06-.94-2.06-.94-.94-2.06-.94 2.06-2.06.94zm-11 1L8.5 8.5l.94-2.06 2.06-.94-2.06-.94L8.5 2.5l-.94 2.06-2.06.94zm10 10l.94 2.06.94-2.06 2.06-.94-2.06-.94-.94-2.06-.94 2.06-2.06.94z\"/><path d=\"M17.41 7.96l-1.37-1.37c-.4-.4-.92-.59-1.43-.59-.52 0-1.04.2-1.43.59L10.3 9.45l-7.72 7.72c-.78.78-.78 2.05 0 2.83L4 21.41c.39.39.9.59 1.41.59.51 0 1.02-.2 1.41-.59l7.78-7.78 2.81-2.81c.8-.78.8-2.07 0-2.86zM5.41 20L4 18.59l7.72-7.72 1.47 1.35L5.41 20z\"/>\n",
              "  </svg>\n",
              "      </button>\n",
              "      \n",
              "  <style>\n",
              "    .colab-df-container {\n",
              "      display:flex;\n",
              "      flex-wrap:wrap;\n",
              "      gap: 12px;\n",
              "    }\n",
              "\n",
              "    .colab-df-convert {\n",
              "      background-color: #E8F0FE;\n",
              "      border: none;\n",
              "      border-radius: 50%;\n",
              "      cursor: pointer;\n",
              "      display: none;\n",
              "      fill: #1967D2;\n",
              "      height: 32px;\n",
              "      padding: 0 0 0 0;\n",
              "      width: 32px;\n",
              "    }\n",
              "\n",
              "    .colab-df-convert:hover {\n",
              "      background-color: #E2EBFA;\n",
              "      box-shadow: 0px 1px 2px rgba(60, 64, 67, 0.3), 0px 1px 3px 1px rgba(60, 64, 67, 0.15);\n",
              "      fill: #174EA6;\n",
              "    }\n",
              "\n",
              "    [theme=dark] .colab-df-convert {\n",
              "      background-color: #3B4455;\n",
              "      fill: #D2E3FC;\n",
              "    }\n",
              "\n",
              "    [theme=dark] .colab-df-convert:hover {\n",
              "      background-color: #434B5C;\n",
              "      box-shadow: 0px 1px 3px 1px rgba(0, 0, 0, 0.15);\n",
              "      filter: drop-shadow(0px 1px 2px rgba(0, 0, 0, 0.3));\n",
              "      fill: #FFFFFF;\n",
              "    }\n",
              "  </style>\n",
              "\n",
              "      <script>\n",
              "        const buttonEl =\n",
              "          document.querySelector('#df-8eee3f13-b3e7-4aba-93f1-622070aa88bc button.colab-df-convert');\n",
              "        buttonEl.style.display =\n",
              "          google.colab.kernel.accessAllowed ? 'block' : 'none';\n",
              "\n",
              "        async function convertToInteractive(key) {\n",
              "          const element = document.querySelector('#df-8eee3f13-b3e7-4aba-93f1-622070aa88bc');\n",
              "          const dataTable =\n",
              "            await google.colab.kernel.invokeFunction('convertToInteractive',\n",
              "                                                     [key], {});\n",
              "          if (!dataTable) return;\n",
              "\n",
              "          const docLinkHtml = 'Like what you see? Visit the ' +\n",
              "            '<a target=\"_blank\" href=https://colab.research.google.com/notebooks/data_table.ipynb>data table notebook</a>'\n",
              "            + ' to learn more about interactive tables.';\n",
              "          element.innerHTML = '';\n",
              "          dataTable['output_type'] = 'display_data';\n",
              "          await google.colab.output.renderOutput(dataTable, element);\n",
              "          const docLink = document.createElement('div');\n",
              "          docLink.innerHTML = docLinkHtml;\n",
              "          element.appendChild(docLink);\n",
              "        }\n",
              "      </script>\n",
              "    </div>\n",
              "  </div>\n",
              "  "
            ]
          },
          "metadata": {},
          "execution_count": 10
        }
      ]
    },
    {
      "cell_type": "code",
      "source": [
        "df.drop(\"Cust_ID\",axis=1,inplace=True)"
      ],
      "metadata": {
        "id": "mYmxCZeCXmhW"
      },
      "execution_count": 11,
      "outputs": []
    },
    {
      "cell_type": "code",
      "source": [
        "df.info()"
      ],
      "metadata": {
        "colab": {
          "base_uri": "https://localhost:8080/"
        },
        "id": "wwm_XODkXr2g",
        "outputId": "4d4c0fc5-cbda-4f7d-b3af-2f731a904999"
      },
      "execution_count": 12,
      "outputs": [
        {
          "output_type": "stream",
          "name": "stdout",
          "text": [
            "<class 'pandas.core.frame.DataFrame'>\n",
            "RangeIndex: 30000 entries, 0 to 29999\n",
            "Data columns (total 37 columns):\n",
            " #   Column                  Non-Null Count  Dtype\n",
            "---  ------                  --------------  -----\n",
            " 0   Gender                  30000 non-null  int64\n",
            " 1   Orders                  30000 non-null  int64\n",
            " 2   Jordan                  30000 non-null  int64\n",
            " 3   Gatorade                30000 non-null  int64\n",
            " 4   Samsung                 30000 non-null  int64\n",
            " 5   Asus                    30000 non-null  int64\n",
            " 6   Udis                    30000 non-null  int64\n",
            " 7   Mondelez International  30000 non-null  int64\n",
            " 8   Wrangler                30000 non-null  int64\n",
            " 9   Vans                    30000 non-null  int64\n",
            " 10  Fila                    30000 non-null  int64\n",
            " 11  Brooks                  30000 non-null  int64\n",
            " 12  H&M                     30000 non-null  int64\n",
            " 13  Dairy Queen             30000 non-null  int64\n",
            " 14  Fendi                   30000 non-null  int64\n",
            " 15  Hewlett Packard         30000 non-null  int64\n",
            " 16  Pladis                  30000 non-null  int64\n",
            " 17  Asics                   30000 non-null  int64\n",
            " 18  Siemens                 30000 non-null  int64\n",
            " 19  J.M. Smucker            30000 non-null  int64\n",
            " 20  Pop Chips               30000 non-null  int64\n",
            " 21  Juniper                 30000 non-null  int64\n",
            " 22  Huawei                  30000 non-null  int64\n",
            " 23  Compaq                  30000 non-null  int64\n",
            " 24  IBM                     30000 non-null  int64\n",
            " 25  Burberry                30000 non-null  int64\n",
            " 26  Mi                      30000 non-null  int64\n",
            " 27  LG                      30000 non-null  int64\n",
            " 28  Dior                    30000 non-null  int64\n",
            " 29  Scabal                  30000 non-null  int64\n",
            " 30  Tommy Hilfiger          30000 non-null  int64\n",
            " 31  Hollister               30000 non-null  int64\n",
            " 32  Forever 21              30000 non-null  int64\n",
            " 33  Colavita                30000 non-null  int64\n",
            " 34  Microsoft               30000 non-null  int64\n",
            " 35  Jiffy mix               30000 non-null  int64\n",
            " 36  Kraft                   30000 non-null  int64\n",
            "dtypes: int64(37)\n",
            "memory usage: 8.5 MB\n"
          ]
        }
      ]
    },
    {
      "cell_type": "markdown",
      "source": [
        "# KMEANS"
      ],
      "metadata": {
        "id": "IKQFYOWPYYer"
      }
    },
    {
      "cell_type": "code",
      "source": [
        "wcss=[]\n",
        "for i in range(1,21):\n",
        "  km=KMeans(n_clusters = i)\n",
        "  km.fit(df)\n",
        "  wcss.append(km.inertia_)\n"
      ],
      "metadata": {
        "colab": {
          "base_uri": "https://localhost:8080/"
        },
        "id": "ELc69KToXtNq",
        "outputId": "74892431-7583-46ee-f7ee-f07b2acc2f8f"
      },
      "execution_count": 13,
      "outputs": [
        {
          "output_type": "stream",
          "name": "stderr",
          "text": [
            "/usr/local/lib/python3.9/dist-packages/sklearn/cluster/_kmeans.py:870: FutureWarning: The default value of `n_init` will change from 10 to 'auto' in 1.4. Set the value of `n_init` explicitly to suppress the warning\n",
            "  warnings.warn(\n",
            "/usr/local/lib/python3.9/dist-packages/sklearn/cluster/_kmeans.py:870: FutureWarning: The default value of `n_init` will change from 10 to 'auto' in 1.4. Set the value of `n_init` explicitly to suppress the warning\n",
            "  warnings.warn(\n",
            "/usr/local/lib/python3.9/dist-packages/sklearn/cluster/_kmeans.py:870: FutureWarning: The default value of `n_init` will change from 10 to 'auto' in 1.4. Set the value of `n_init` explicitly to suppress the warning\n",
            "  warnings.warn(\n",
            "/usr/local/lib/python3.9/dist-packages/sklearn/cluster/_kmeans.py:870: FutureWarning: The default value of `n_init` will change from 10 to 'auto' in 1.4. Set the value of `n_init` explicitly to suppress the warning\n",
            "  warnings.warn(\n",
            "/usr/local/lib/python3.9/dist-packages/sklearn/cluster/_kmeans.py:870: FutureWarning: The default value of `n_init` will change from 10 to 'auto' in 1.4. Set the value of `n_init` explicitly to suppress the warning\n",
            "  warnings.warn(\n",
            "/usr/local/lib/python3.9/dist-packages/sklearn/cluster/_kmeans.py:870: FutureWarning: The default value of `n_init` will change from 10 to 'auto' in 1.4. Set the value of `n_init` explicitly to suppress the warning\n",
            "  warnings.warn(\n",
            "/usr/local/lib/python3.9/dist-packages/sklearn/cluster/_kmeans.py:870: FutureWarning: The default value of `n_init` will change from 10 to 'auto' in 1.4. Set the value of `n_init` explicitly to suppress the warning\n",
            "  warnings.warn(\n",
            "/usr/local/lib/python3.9/dist-packages/sklearn/cluster/_kmeans.py:870: FutureWarning: The default value of `n_init` will change from 10 to 'auto' in 1.4. Set the value of `n_init` explicitly to suppress the warning\n",
            "  warnings.warn(\n",
            "/usr/local/lib/python3.9/dist-packages/sklearn/cluster/_kmeans.py:870: FutureWarning: The default value of `n_init` will change from 10 to 'auto' in 1.4. Set the value of `n_init` explicitly to suppress the warning\n",
            "  warnings.warn(\n",
            "/usr/local/lib/python3.9/dist-packages/sklearn/cluster/_kmeans.py:870: FutureWarning: The default value of `n_init` will change from 10 to 'auto' in 1.4. Set the value of `n_init` explicitly to suppress the warning\n",
            "  warnings.warn(\n",
            "/usr/local/lib/python3.9/dist-packages/sklearn/cluster/_kmeans.py:870: FutureWarning: The default value of `n_init` will change from 10 to 'auto' in 1.4. Set the value of `n_init` explicitly to suppress the warning\n",
            "  warnings.warn(\n",
            "/usr/local/lib/python3.9/dist-packages/sklearn/cluster/_kmeans.py:870: FutureWarning: The default value of `n_init` will change from 10 to 'auto' in 1.4. Set the value of `n_init` explicitly to suppress the warning\n",
            "  warnings.warn(\n",
            "/usr/local/lib/python3.9/dist-packages/sklearn/cluster/_kmeans.py:870: FutureWarning: The default value of `n_init` will change from 10 to 'auto' in 1.4. Set the value of `n_init` explicitly to suppress the warning\n",
            "  warnings.warn(\n",
            "/usr/local/lib/python3.9/dist-packages/sklearn/cluster/_kmeans.py:870: FutureWarning: The default value of `n_init` will change from 10 to 'auto' in 1.4. Set the value of `n_init` explicitly to suppress the warning\n",
            "  warnings.warn(\n",
            "/usr/local/lib/python3.9/dist-packages/sklearn/cluster/_kmeans.py:870: FutureWarning: The default value of `n_init` will change from 10 to 'auto' in 1.4. Set the value of `n_init` explicitly to suppress the warning\n",
            "  warnings.warn(\n",
            "/usr/local/lib/python3.9/dist-packages/sklearn/cluster/_kmeans.py:870: FutureWarning: The default value of `n_init` will change from 10 to 'auto' in 1.4. Set the value of `n_init` explicitly to suppress the warning\n",
            "  warnings.warn(\n",
            "/usr/local/lib/python3.9/dist-packages/sklearn/cluster/_kmeans.py:870: FutureWarning: The default value of `n_init` will change from 10 to 'auto' in 1.4. Set the value of `n_init` explicitly to suppress the warning\n",
            "  warnings.warn(\n",
            "/usr/local/lib/python3.9/dist-packages/sklearn/cluster/_kmeans.py:870: FutureWarning: The default value of `n_init` will change from 10 to 'auto' in 1.4. Set the value of `n_init` explicitly to suppress the warning\n",
            "  warnings.warn(\n",
            "/usr/local/lib/python3.9/dist-packages/sklearn/cluster/_kmeans.py:870: FutureWarning: The default value of `n_init` will change from 10 to 'auto' in 1.4. Set the value of `n_init` explicitly to suppress the warning\n",
            "  warnings.warn(\n",
            "/usr/local/lib/python3.9/dist-packages/sklearn/cluster/_kmeans.py:870: FutureWarning: The default value of `n_init` will change from 10 to 'auto' in 1.4. Set the value of `n_init` explicitly to suppress the warning\n",
            "  warnings.warn(\n"
          ]
        }
      ]
    },
    {
      "cell_type": "code",
      "source": [
        "wcss"
      ],
      "metadata": {
        "colab": {
          "base_uri": "https://localhost:8080/"
        },
        "id": "x8j9jOkeZZX8",
        "outputId": "48a5f40f-92a9-4b78-e60f-d005d3b14824"
      },
      "execution_count": 14,
      "outputs": [
        {
          "output_type": "execute_result",
          "data": {
            "text/plain": [
              "[922806.4653666681,\n",
              " 620898.7650530578,\n",
              " 574909.2230452211,\n",
              " 547374.0257123167,\n",
              " 527578.1049633357,\n",
              " 511498.057420591,\n",
              " 496826.4070433213,\n",
              " 484367.7707402232,\n",
              " 477164.3218291424,\n",
              " 464885.98379501177,\n",
              " 459648.10428065096,\n",
              " 450760.7083304478,\n",
              " 446837.02951779345,\n",
              " 436404.48529502016,\n",
              " 431967.93341958267,\n",
              " 425567.7271515188,\n",
              " 421220.4230875147,\n",
              " 416192.21834188735,\n",
              " 409215.43489067524,\n",
              " 406746.11110422097]"
            ]
          },
          "metadata": {},
          "execution_count": 14
        }
      ]
    },
    {
      "cell_type": "code",
      "source": [
        "plt.plot(range(1,21),wcss)\n",
        "plt.xlabel(\"No Of Clusters\")\n",
        "plt.ylabel(\"Wcss\")\n",
        "plt.title(\"Cluster Analysis\")"
      ],
      "metadata": {
        "colab": {
          "base_uri": "https://localhost:8080/",
          "height": 313
        },
        "id": "U9w3aB9DZsav",
        "outputId": "1db5b6f1-751e-4b17-fb2c-b8976c76b2a5"
      },
      "execution_count": 15,
      "outputs": [
        {
          "output_type": "execute_result",
          "data": {
            "text/plain": [
              "Text(0.5, 1.0, 'Cluster Analysis')"
            ]
          },
          "metadata": {},
          "execution_count": 15
        },
        {
          "output_type": "display_data",
          "data": {
            "text/plain": [
              "<Figure size 432x288 with 1 Axes>"
            ],
            "image/png": "[encoded data removed]"
          },
          "metadata": {
            "needs_background": "light"
          }
        }
      ]
    },
    {
      "cell_type": "markdown",
      "source": [
        "**KMEANS WITH 7 CLUSTERS**"
      ],
      "metadata": {
        "id": "zV0dRhm2azcm"
      }
    },
    {
      "cell_type": "code",
      "source": [
        "kmeans=KMeans(n_clusters=7)\n",
        "y_pred=kmeans.fit_predict(df)\n"
      ],
      "metadata": {
        "colab": {
          "base_uri": "https://localhost:8080/"
        },
        "id": "9IwGMGEraQCs",
        "outputId": "8fb7510a-a8eb-4d25-cd82-4bc19e4a658a"
      },
      "execution_count": 16,
      "outputs": [
        {
          "output_type": "stream",
          "name": "stderr",
          "text": [
            "/usr/local/lib/python3.9/dist-packages/sklearn/cluster/_kmeans.py:870: FutureWarning: The default value of `n_init` will change from 10 to 'auto' in 1.4. Set the value of `n_init` explicitly to suppress the warning\n",
            "  warnings.warn(\n"
          ]
        }
      ]
    },
    {
      "cell_type": "code",
      "source": [
        "y_pred"
      ],
      "metadata": {
        "colab": {
          "base_uri": "https://localhost:8080/"
        },
        "id": "TL-XGoNjipvC",
        "outputId": "72685a6e-6f59-4d93-c942-b15ed8a5aff9"
      },
      "execution_count": 17,
      "outputs": [
        {
          "output_type": "execute_result",
          "data": {
            "text/plain": [
              "array([1, 4, 1, ..., 3, 3, 0], dtype=int32)"
            ]
          },
          "metadata": {},
          "execution_count": 17
        }
      ]
    },
    {
      "cell_type": "code",
      "source": [
        "df[\"Clusters\"]=kmeans.labels_"
      ],
      "metadata": {
        "id": "vdZ933t4bPXl"
      },
      "execution_count": 18,
      "outputs": []
    },
    {
      "cell_type": "code",
      "source": [
        "df[\"Clusters\"]"
      ],
      "metadata": {
        "colab": {
          "base_uri": "https://localhost:8080/"
        },
        "id": "7HeV_LA8bUUo",
        "outputId": "84c5015f-ab0c-49e0-d792-d4ae84ab504a"
      },
      "execution_count": 19,
      "outputs": [
        {
          "output_type": "execute_result",
          "data": {
            "text/plain": [
              "0        1\n",
              "1        4\n",
              "2        1\n",
              "3        3\n",
              "4        5\n",
              "        ..\n",
              "29995    3\n",
              "29996    3\n",
              "29997    3\n",
              "29998    3\n",
              "29999    0\n",
              "Name: Clusters, Length: 30000, dtype: int32"
            ]
          },
          "metadata": {},
          "execution_count": 19
        }
      ]
    },
    {
      "cell_type": "code",
      "source": [
        "df[\"Clusters\"].value_counts().plot(kind='bar')"
      ],
      "metadata": {
        "colab": {
          "base_uri": "https://localhost:8080/",
          "height": 280
        },
        "id": "DDN7V2GBbXUd",
        "outputId": "d8a9a024-272a-42ed-9f9a-e4a3c22bc465"
      },
      "execution_count": null,
      "outputs": [
        {
          "output_type": "execute_result",
          "data": {
            "text/plain": [
              "<Axes: >"
            ]
          },
          "metadata": {},
          "execution_count": 54
        },
        {
          "output_type": "display_data",
          "data": {
            "text/plain": [
              "<Figure size 432x288 with 1 Axes>"
            ],
            "image/png": "[encoded data removed]"
          },
          "metadata": {
            "needs_background": "light"
          }
        }
      ]
    },
    {
      "cell_type": "markdown",
      "source": [
        "# SILHOUETTE SCORE"
      ],
      "metadata": {
        "id": "jwBr5HGucW7n"
      }
    },
    {
      "cell_type": "code",
      "source": [
        "from sklearn.metrics import silhouette_score\n",
        "print(silhouette_score(df.iloc[:,:-1],labels=df[\"Clusters\"]))"
      ],
      "metadata": {
        "colab": {
          "base_uri": "https://localhost:8080/"
        },
        "id": "3E59PB19cBxX",
        "outputId": "9cf9e99e-89fa-4566-8dbf-353bbada630c"
      },
      "execution_count": null,
      "outputs": [
        {
          "output_type": "stream",
          "name": "stdout",
          "text": [
            "0.15045296203462988\n"
          ]
        }
      ]
    },
    {
      "cell_type": "code",
      "source": [
        "df.groupby(df[\"Clusters\"])[\"Orders\"].sum()"
      ],
      "metadata": {
        "colab": {
          "base_uri": "https://localhost:8080/"
        },
        "id": "BPiKqY8vchsv",
        "outputId": "404601b1-c662-4ab8-e654-39f444c6b320"
      },
      "execution_count": null,
      "outputs": [
        {
          "output_type": "execute_result",
          "data": {
            "text/plain": [
              "Clusters\n",
              "0     7127\n",
              "1    42410\n",
              "2    23696\n",
              "3      847\n",
              "4    46682\n",
              "5     1792\n",
              "6     2540\n",
              "Name: Orders, dtype: int64"
            ]
          },
          "metadata": {},
          "execution_count": 61
        }
      ]
    },
    {
      "cell_type": "code",
      "source": [
        "kmeans.cluster_centers_"
      ],
      "metadata": {
        "id": "nhQNNxO-jOnP",
        "colab": {
          "base_uri": "https://localhost:8080/"
        },
        "outputId": "3a41f486-851d-47bb-8916-fb34a7761e4f"
      },
      "execution_count": 20,
      "outputs": [
        {
          "output_type": "execute_result",
          "data": {
            "text/plain": [
              "array([[ 0.17847646,  2.96152041,  0.27358048,  0.25637416,  0.22900047,\n",
              "         0.15563898,  0.14437666,  0.13858908,  0.10667918,  0.10480213,\n",
              "         0.09009855,  0.1268575 ,  0.30768028,  0.12028781,  0.1387455 ,\n",
              "         0.15376193,  0.06960738,  0.18739246,  0.02674801,  0.66682309,\n",
              "         0.22383857,  0.37994682,  0.25308932,  0.09807602,  0.03253559,\n",
              "         0.3175348 ,  0.11512592,  0.09056781,  0.25840763,  0.36430471,\n",
              "         0.13530424,  0.07977475,  0.05740654,  0.1647114 ,  0.10746129,\n",
              "         0.07883623,  0.04849054],\n",
              "       [ 0.1805579 ,  6.04142012,  0.28284024,  0.25038039,  0.23584108,\n",
              "         0.17058326,  0.15384615,  0.14387151,  0.10549451,  0.10972105,\n",
              "         0.0887574 ,  0.12392223,  0.34404057,  0.12983939,  0.13998309,\n",
              "         0.15756551,  0.07590871,  0.18241758,  0.03296703,  0.69923922,\n",
              "         0.21927303,  0.39256128,  0.25714286,  0.10819949,  0.02400676,\n",
              "         0.33558749,  0.11242604,  0.0772612 ,  0.27218935,  0.3783601 ,\n",
              "         0.13744717,  0.07759932,  0.0556213 ,  0.16855452,  0.10532544,\n",
              "         0.07523246,  0.04868977],\n",
              "       [ 0.20627803,  3.83856502,  0.33183857,  0.2690583 ,  0.11210762,\n",
              "         0.17488789,  0.12107623,  0.12556054,  0.08520179,  0.0941704 ,\n",
              "         0.0896861 ,  0.20179372,  0.30493274,  0.20179372,  0.15695067,\n",
              "         0.20627803,  0.10313901,  0.34080717,  0.03139013,  1.04484305,\n",
              "         0.27802691, 10.23318386,  1.28699552,  1.86547085,  0.46188341,\n",
              "         0.56950673,  0.14349776,  0.12107623,  0.23318386,  0.40807175,\n",
              "         0.22421525,  0.03587444,  0.03587444,  0.55156951,  0.43946188,\n",
              "         0.21973094,  0.06726457],\n",
              "       [ 0.16528067,  0.26902287,  0.22079002,  0.19407484,  0.18638254,\n",
              "         0.13929314,  0.12993763,  0.12214137,  0.09594595,  0.09480249,\n",
              "         0.0954262 ,  0.11683992,  0.26777547,  0.12681913,  0.11517672,\n",
              "         0.1506237 ,  0.06891892,  0.18825364,  0.03835759,  0.61964657,\n",
              "         0.18794179,  0.36580042,  0.22567568,  0.10446985,  0.02910603,\n",
              "         0.28887734,  0.1049896 ,  0.08752599,  0.24313929,  0.33347193,\n",
              "         0.13513514,  0.06663202,  0.04927235,  0.16528067,  0.09334719,\n",
              "         0.06434511,  0.06070686],\n",
              "       [ 0.06504065,  3.39837398,  0.82520325,  0.72222222,  0.50135501,\n",
              "         0.3902439 ,  0.28319783,  0.32113821,  0.29810298,  0.40514905,\n",
              "         0.18563686,  0.6504065 ,  1.06910569,  3.13821138,  0.50813008,\n",
              "         0.37669377,  1.37127371,  0.82113821,  0.06775068,  3.29403794,\n",
              "         1.47289973,  1.01355014,  0.43360434,  0.1504065 ,  0.04471545,\n",
              "         4.37533875,  0.39295393,  0.74525745,  0.82926829,  0.74390244,\n",
              "         0.86314363,  0.2899729 ,  0.25609756,  0.95392954,  0.48644986,\n",
              "         0.57181572,  0.65176152],\n",
              "       [ 0.18451939,  9.31733769,  0.2550884 ,  0.27068786,  0.23414054,\n",
              "         0.16223444,  0.14039519,  0.14069232,  0.1054821 ,  0.11201902,\n",
              "         0.08720844,  0.14410934,  0.33605705,  0.15911454,  0.14024662,\n",
              "         0.16431437,  0.08126579,  0.23354628,  0.03417026,  0.73822612,\n",
              "         0.237409  ,  0.38582677,  0.24840291,  0.10444213,  0.02703907,\n",
              "         0.37349577,  0.12316149,  0.08676274,  0.26207101,  0.37914129,\n",
              "         0.15272619,  0.07250037,  0.05080969,  0.17902243,  0.11350468,\n",
              "         0.08438568,  0.06358639],\n",
              "       [ 0.22894737,  4.62894737,  0.20263158,  0.44210526,  0.17105263,\n",
              "         0.20263158,  0.11052632,  0.18157895,  0.07894737,  0.1       ,\n",
              "         0.17105263,  0.10789474,  0.39210526,  0.23947368,  0.17631579,\n",
              "         0.10263158,  0.11578947,  7.01315789,  1.10526316,  1.71315789,\n",
              "         0.40526316,  0.6       ,  0.39736842,  0.16052632,  0.02894737,\n",
              "         0.46578947,  0.20526316,  0.09736842,  0.27631579,  0.35526316,\n",
              "         0.2       ,  0.02631579,  0.02894737,  0.24736842,  0.16315789,\n",
              "         0.08947368,  0.05526316]])"
            ]
          },
          "metadata": {},
          "execution_count": 20
        }
      ]
    },
    {
      "cell_type": "code",
      "source": [],
      "metadata": {
        "id": "Oddu49WSnc8e"
      },
      "execution_count": null,
      "outputs": []
    }
  ]
}